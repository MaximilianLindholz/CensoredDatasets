{
 "cells": [
  {
   "cell_type": "code",
   "execution_count": 73,
   "id": "d7e5d4ee-cea9-4b9a-b10e-42145f611715",
   "metadata": {},
   "outputs": [
    {
     "name": "stderr",
     "output_type": "stream",
     "text": [
      "Updating HTML index of packages in '.Library'\n",
      "\n",
      "Making 'packages.html' ...\n",
      " done\n",
      "\n"
     ]
    }
   ],
   "source": [
    "#install.packages(\"SurvRegCensCov\")\n",
    "#install.packages(\"muhaz\")\n",
    "#install.packages(\"data.table\")\n",
    "#install.packages(\"texreg\")"
   ]
  },
  {
   "cell_type": "code",
   "execution_count": 74,
   "id": "ecbcec1f-15aa-4029-8e1d-736c2a279469",
   "metadata": {},
   "outputs": [
    {
     "name": "stderr",
     "output_type": "stream",
     "text": [
      "Version:  1.38.6\n",
      "Date:     2022-04-06\n",
      "Author:   Philip Leifeld (University of Essex)\n",
      "\n",
      "Consider submitting praise using the praise or praise_interactive functions.\n",
      "Please cite the JSS article in your publications -- see citation(\"texreg\").\n",
      "\n",
      "\n",
      "Attaching package: ‘texreg’\n",
      "\n",
      "\n",
      "The following object is masked from ‘package:tidyr’:\n",
      "\n",
      "    extract\n",
      "\n",
      "\n"
     ]
    }
   ],
   "source": [
    "library(\"survival\")\n",
    "library(\"arrow\")\n",
    "library(\"tidyverse\")\n",
    "library(\"feather\")\n",
    "library(\"survminer\")\n",
    "library(\"SurvRegCensCov\")\n",
    "library(\"muhaz\")\n",
    "library(\"data.table\")\n",
    "library(\"texreg\")"
   ]
  },
  {
   "cell_type": "markdown",
   "id": "26d1e37f-498a-4e78-a853-b301159e284b",
   "metadata": {},
   "source": [
    "Cleanup steps; Identical to Survanalysis.ipynb"
   ]
  },
  {
   "cell_type": "code",
   "execution_count": 31,
   "id": "1bbfe322-084d-417d-99a1-daaf5c5a16c3",
   "metadata": {},
   "outputs": [],
   "source": [
    "tx_df <-read_parquet(\"/home/project/data/students/srtr/tx_cohort.parquet\")\n",
    "# colnames suggested by nephrologist\n",
    "tx_df <- tx_df %>% select(-c('REC_DGN','CAN_HGT_CM','CAN_WGT_KG','DONOR_ID','DON_AGE_IN_MONTHS','REC_AGE_IN_MONTHS_AT_TX','REC_AGE_IN_MONTHS_AT_TX','REC_FAIL_DT','REC_FAIL_CAUSE_TY','REC_PREV_GRAFT1_DT','REC_GRAFT_STAT','REC_HGT_WGT_DT',\n",
    "                             'TX_ID','TFL_COD','REC_COD','REC_COD2','REC_COD3','TFL_COD', 'CAN_RACE'))\n",
    "data <- tx_df%>%mutate(time = case_when(\n",
    "  !is.na(TFL_DEATH_DT) & is.na(TFL_GRAFT_DT)~ difftime( TFL_DEATH_DT,REC_TX_DT, units = \"days\"),\n",
    "    is.na(TFL_DEATH_DT) & !is.na(TFL_GRAFT_DT)~ difftime(TFL_GRAFT_DT,REC_TX_DT,  units = \"days\"),\n",
    "    is.na(TFL_DEATH_DT) & is.na(TFL_GRAFT_DT)~ difftime(TFL_LAFUDATE,REC_TX_DT,  units = \"days\"),\n",
    "  ))\n",
    "\n",
    "# time: Survival time in days\n",
    "# status: censoring status 1=censored, 2=graft failure\n",
    "data$status <- 1\n",
    "data$status[!is.na(data$TFL_DEATH_DT)]<-1\n",
    "data$status[!is.na(data$TFL_GRAFT_DT)]<-2\n",
    "\n",
    "# drop columns with too much missing data and factors without observations or just 1 observation\n",
    "data <- data %>% select(-c('CAN_ANGINA', 'REC_ACUTE_REJ_BIOPSY_CONFIRMED','REC_ACUTE_REJ_EPISODE','REC_CREAT_DECLINE_GE25','REC_PROD_URINE_GT40_24HRS'))\n",
    "data <- subset(data, data$CAN_ABO != \"UNK\")\n",
    "data <- subset(data, data$DON_ABO != \"UNK\")\n",
    "data <- subset(data, data$REC_MM_EQUIV_CUR != \"REC_MM_EQUIV_CUR6\")\n",
    "data <- subset(data, data$REC_MM_EQUIV_TX != \"REC_MM_EQUIV_TX6\")\n",
    "\n",
    "# correct type\n",
    "cols <- c(\"CAN_ABO\",\"CAN_DIAB_TY\", \"CAN_GENDER\", \"CAN_MALIG\", \"DON_ABO\", \"DON_GENDER\", \"REC_A_MM_EQUIV_CUR\", \"REC_A_MM_EQUIV_TX\",\"REC_B_MM_EQUIV_CUR\", \"REC_B_MM_EQUIV_TX\",\"REC_DR_MM_EQUIV_CUR\")\n",
    "data[cols] <- lapply(data[cols], factor)\n",
    "cols <- c(\"REC_DR_MM_EQUIV_TX\", \"REC_DR_MM_EQUIV_CUR\",\"REC_MM_EQUIV_CUR\", \"REC_MM_EQUIV_TX\")\n",
    "data[cols] <- lapply(data[cols], factor)\n",
    "\n",
    "# delete \"old\" outcomes => now as time and status\n",
    "test <- data %>% select(-c('TFL_DEATH_DT','TFL_GRAFT_DT','TFL_LAFUDATE' ))\n",
    "test <- na.omit(test)\n",
    "\n",
    "# create timeframes from variables\n",
    "test$dialysistotx <- difftime(test$REC_DIAL_DT,test$REC_TX_DT, units = \"days\")\n",
    "test$dialysistotx <- as.integer(test$dialysistotx)\n",
    "test$txtodischarge <- difftime(test$REC_DISCHRG_DT,test$REC_TX_DT, units = \"days\")\n",
    "test$txtodischarge <- as.integer(test$txtodischarge)\n",
    "test$yeartx <- format(test$REC_TX_DT, format=\"%Y\")\n",
    "test$yeartx <- as.factor(test$yeartx)\n",
    "test <- test %>% select(-c(\"REC_DIAL_DT\", \"REC_DISCHRG_DT\", \"REC_TX_DT\"))\n",
    "\n",
    "# reasonable time frame => time until 95% of transplants have failed // only extremes remain, that will still fail and are not censored; see cox file\n",
    "test <- subset(test, test$time < 5099)\n",
    "\n",
    "# drop columns that i dropen in cox based upon univariate cox regression and non significant results\n",
    "test <- test %>% select(-c(\"REC_BMI\",\"yeartx\"))"
   ]
  },
  {
   "cell_type": "code",
   "execution_count": 32,
   "id": "0b7b1607-8ae7-49e6-96c7-148ea4049609",
   "metadata": {},
   "outputs": [
    {
     "data": {
      "text/html": [
       "<table class=\"dataframe\">\n",
       "<caption>A tibble: 6 × 23</caption>\n",
       "<thead>\n",
       "\t<tr><th scope=col>CAN_ABO</th><th scope=col>CAN_DIAB_TY</th><th scope=col>CAN_GENDER</th><th scope=col>CAN_MALIG</th><th scope=col>DON_ABO</th><th scope=col>DON_AGE</th><th scope=col>DON_GENDER</th><th scope=col>REC_AGE_AT_TX</th><th scope=col>REC_A_MM_EQUIV_CUR</th><th scope=col>REC_A_MM_EQUIV_TX</th><th scope=col>⋯</th><th scope=col>REC_DR_MM_EQUIV_TX</th><th scope=col>REC_MM_EQUIV_CUR</th><th scope=col>REC_MM_EQUIV_TX</th><th scope=col>REC_COLD_ISCH_TM</th><th scope=col>REC_CREAT</th><th scope=col>REC_DISCHRG_CREAT</th><th scope=col>time</th><th scope=col>status</th><th scope=col>dialysistotx</th><th scope=col>txtodischarge</th></tr>\n",
       "\t<tr><th scope=col>&lt;fct&gt;</th><th scope=col>&lt;fct&gt;</th><th scope=col>&lt;fct&gt;</th><th scope=col>&lt;fct&gt;</th><th scope=col>&lt;fct&gt;</th><th scope=col>&lt;dbl&gt;</th><th scope=col>&lt;fct&gt;</th><th scope=col>&lt;dbl&gt;</th><th scope=col>&lt;fct&gt;</th><th scope=col>&lt;fct&gt;</th><th scope=col>⋯</th><th scope=col>&lt;fct&gt;</th><th scope=col>&lt;fct&gt;</th><th scope=col>&lt;fct&gt;</th><th scope=col>&lt;dbl&gt;</th><th scope=col>&lt;dbl&gt;</th><th scope=col>&lt;dbl&gt;</th><th scope=col>&lt;drtn&gt;</th><th scope=col>&lt;dbl&gt;</th><th scope=col>&lt;int&gt;</th><th scope=col>&lt;int&gt;</th></tr>\n",
       "</thead>\n",
       "<tbody>\n",
       "\t<tr><td>B</td><td>3</td><td>M</td><td>N</td><td>B </td><td>45</td><td>F</td><td>68</td><td>2</td><td>2</td><td>⋯</td><td>2</td><td>5</td><td>5</td><td> 6.18</td><td> 7.33</td><td>1.96</td><td>2198 days</td><td>2</td><td> -786</td><td>6</td></tr>\n",
       "\t<tr><td>A</td><td>1</td><td>M</td><td>N</td><td>A </td><td>48</td><td>M</td><td>69</td><td>1</td><td>1</td><td>⋯</td><td>1</td><td>3</td><td>3</td><td> 1.00</td><td> 4.60</td><td>1.00</td><td>2923 days</td><td>1</td><td> -309</td><td>6</td></tr>\n",
       "\t<tr><td>O</td><td>1</td><td>M</td><td>N</td><td>O </td><td>28</td><td>F</td><td>59</td><td>2</td><td>2</td><td>⋯</td><td>1</td><td>5</td><td>5</td><td>11.30</td><td> 3.70</td><td>3.80</td><td>1781 days</td><td>2</td><td>-1312</td><td>7</td></tr>\n",
       "\t<tr><td>O</td><td>3</td><td>M</td><td>N</td><td>O </td><td>54</td><td>F</td><td>59</td><td>2</td><td>2</td><td>⋯</td><td>2</td><td>6</td><td>6</td><td>12.78</td><td> 8.25</td><td>3.17</td><td>3114 days</td><td>1</td><td>-2487</td><td>4</td></tr>\n",
       "\t<tr><td>B</td><td>1</td><td>F</td><td>N</td><td>B </td><td>57</td><td>F</td><td>59</td><td>2</td><td>2</td><td>⋯</td><td>2</td><td>6</td><td>6</td><td> 0.92</td><td> 6.54</td><td>0.98</td><td>2913 days</td><td>1</td><td> -824</td><td>5</td></tr>\n",
       "\t<tr><td>A</td><td>1</td><td>M</td><td>N</td><td>A1</td><td>47</td><td>M</td><td>35</td><td>2</td><td>2</td><td>⋯</td><td>1</td><td>5</td><td>5</td><td>14.95</td><td>10.30</td><td>5.90</td><td>2853 days</td><td>1</td><td>-3000</td><td>7</td></tr>\n",
       "</tbody>\n",
       "</table>\n"
      ],
      "text/latex": [
       "A tibble: 6 × 23\n",
       "\\begin{tabular}{lllllllllllllllllllll}\n",
       " CAN\\_ABO & CAN\\_DIAB\\_TY & CAN\\_GENDER & CAN\\_MALIG & DON\\_ABO & DON\\_AGE & DON\\_GENDER & REC\\_AGE\\_AT\\_TX & REC\\_A\\_MM\\_EQUIV\\_CUR & REC\\_A\\_MM\\_EQUIV\\_TX & ⋯ & REC\\_DR\\_MM\\_EQUIV\\_TX & REC\\_MM\\_EQUIV\\_CUR & REC\\_MM\\_EQUIV\\_TX & REC\\_COLD\\_ISCH\\_TM & REC\\_CREAT & REC\\_DISCHRG\\_CREAT & time & status & dialysistotx & txtodischarge\\\\\n",
       " <fct> & <fct> & <fct> & <fct> & <fct> & <dbl> & <fct> & <dbl> & <fct> & <fct> & ⋯ & <fct> & <fct> & <fct> & <dbl> & <dbl> & <dbl> & <drtn> & <dbl> & <int> & <int>\\\\\n",
       "\\hline\n",
       "\t B & 3 & M & N & B  & 45 & F & 68 & 2 & 2 & ⋯ & 2 & 5 & 5 &  6.18 &  7.33 & 1.96 & 2198 days & 2 &  -786 & 6\\\\\n",
       "\t A & 1 & M & N & A  & 48 & M & 69 & 1 & 1 & ⋯ & 1 & 3 & 3 &  1.00 &  4.60 & 1.00 & 2923 days & 1 &  -309 & 6\\\\\n",
       "\t O & 1 & M & N & O  & 28 & F & 59 & 2 & 2 & ⋯ & 1 & 5 & 5 & 11.30 &  3.70 & 3.80 & 1781 days & 2 & -1312 & 7\\\\\n",
       "\t O & 3 & M & N & O  & 54 & F & 59 & 2 & 2 & ⋯ & 2 & 6 & 6 & 12.78 &  8.25 & 3.17 & 3114 days & 1 & -2487 & 4\\\\\n",
       "\t B & 1 & F & N & B  & 57 & F & 59 & 2 & 2 & ⋯ & 2 & 6 & 6 &  0.92 &  6.54 & 0.98 & 2913 days & 1 &  -824 & 5\\\\\n",
       "\t A & 1 & M & N & A1 & 47 & M & 35 & 2 & 2 & ⋯ & 1 & 5 & 5 & 14.95 & 10.30 & 5.90 & 2853 days & 1 & -3000 & 7\\\\\n",
       "\\end{tabular}\n"
      ],
      "text/markdown": [
       "\n",
       "A tibble: 6 × 23\n",
       "\n",
       "| CAN_ABO &lt;fct&gt; | CAN_DIAB_TY &lt;fct&gt; | CAN_GENDER &lt;fct&gt; | CAN_MALIG &lt;fct&gt; | DON_ABO &lt;fct&gt; | DON_AGE &lt;dbl&gt; | DON_GENDER &lt;fct&gt; | REC_AGE_AT_TX &lt;dbl&gt; | REC_A_MM_EQUIV_CUR &lt;fct&gt; | REC_A_MM_EQUIV_TX &lt;fct&gt; | ⋯ ⋯ | REC_DR_MM_EQUIV_TX &lt;fct&gt; | REC_MM_EQUIV_CUR &lt;fct&gt; | REC_MM_EQUIV_TX &lt;fct&gt; | REC_COLD_ISCH_TM &lt;dbl&gt; | REC_CREAT &lt;dbl&gt; | REC_DISCHRG_CREAT &lt;dbl&gt; | time &lt;drtn&gt; | status &lt;dbl&gt; | dialysistotx &lt;int&gt; | txtodischarge &lt;int&gt; |\n",
       "|---|---|---|---|---|---|---|---|---|---|---|---|---|---|---|---|---|---|---|---|---|\n",
       "| B | 3 | M | N | B  | 45 | F | 68 | 2 | 2 | ⋯ | 2 | 5 | 5 |  6.18 |  7.33 | 1.96 | 2198 days | 2 |  -786 | 6 |\n",
       "| A | 1 | M | N | A  | 48 | M | 69 | 1 | 1 | ⋯ | 1 | 3 | 3 |  1.00 |  4.60 | 1.00 | 2923 days | 1 |  -309 | 6 |\n",
       "| O | 1 | M | N | O  | 28 | F | 59 | 2 | 2 | ⋯ | 1 | 5 | 5 | 11.30 |  3.70 | 3.80 | 1781 days | 2 | -1312 | 7 |\n",
       "| O | 3 | M | N | O  | 54 | F | 59 | 2 | 2 | ⋯ | 2 | 6 | 6 | 12.78 |  8.25 | 3.17 | 3114 days | 1 | -2487 | 4 |\n",
       "| B | 1 | F | N | B  | 57 | F | 59 | 2 | 2 | ⋯ | 2 | 6 | 6 |  0.92 |  6.54 | 0.98 | 2913 days | 1 |  -824 | 5 |\n",
       "| A | 1 | M | N | A1 | 47 | M | 35 | 2 | 2 | ⋯ | 1 | 5 | 5 | 14.95 | 10.30 | 5.90 | 2853 days | 1 | -3000 | 7 |\n",
       "\n"
      ],
      "text/plain": [
       "  CAN_ABO CAN_DIAB_TY CAN_GENDER CAN_MALIG DON_ABO DON_AGE DON_GENDER\n",
       "1 B       3           M          N         B       45      F         \n",
       "2 A       1           M          N         A       48      M         \n",
       "3 O       1           M          N         O       28      F         \n",
       "4 O       3           M          N         O       54      F         \n",
       "5 B       1           F          N         B       57      F         \n",
       "6 A       1           M          N         A1      47      M         \n",
       "  REC_AGE_AT_TX REC_A_MM_EQUIV_CUR REC_A_MM_EQUIV_TX ⋯ REC_DR_MM_EQUIV_TX\n",
       "1 68            2                  2                 ⋯ 2                 \n",
       "2 69            1                  1                 ⋯ 1                 \n",
       "3 59            2                  2                 ⋯ 1                 \n",
       "4 59            2                  2                 ⋯ 2                 \n",
       "5 59            2                  2                 ⋯ 2                 \n",
       "6 35            2                  2                 ⋯ 1                 \n",
       "  REC_MM_EQUIV_CUR REC_MM_EQUIV_TX REC_COLD_ISCH_TM REC_CREAT REC_DISCHRG_CREAT\n",
       "1 5                5                6.18             7.33     1.96             \n",
       "2 3                3                1.00             4.60     1.00             \n",
       "3 5                5               11.30             3.70     3.80             \n",
       "4 6                6               12.78             8.25     3.17             \n",
       "5 6                6                0.92             6.54     0.98             \n",
       "6 5                5               14.95            10.30     5.90             \n",
       "  time      status dialysistotx txtodischarge\n",
       "1 2198 days 2       -786        6            \n",
       "2 2923 days 1       -309        6            \n",
       "3 1781 days 2      -1312        7            \n",
       "4 3114 days 1      -2487        4            \n",
       "5 2913 days 1       -824        5            \n",
       "6 2853 days 1      -3000        7            "
      ]
     },
     "metadata": {},
     "output_type": "display_data"
    },
    {
     "data": {
      "text/html": [
       "<style>\n",
       ".list-inline {list-style: none; margin:0; padding: 0}\n",
       ".list-inline>li {display: inline-block}\n",
       ".list-inline>li:not(:last-child)::after {content: \"\\00b7\"; padding: 0 .5ex}\n",
       "</style>\n",
       "<ol class=list-inline><li>'CAN_ABO'</li><li>'CAN_DIAB_TY'</li><li>'CAN_GENDER'</li><li>'CAN_MALIG'</li><li>'DON_ABO'</li><li>'DON_AGE'</li><li>'DON_GENDER'</li><li>'REC_AGE_AT_TX'</li><li>'REC_A_MM_EQUIV_CUR'</li><li>'REC_A_MM_EQUIV_TX'</li><li>'REC_B_MM_EQUIV_CUR'</li><li>'REC_B_MM_EQUIV_TX'</li><li>'REC_DR_MM_EQUIV_CUR'</li><li>'REC_DR_MM_EQUIV_TX'</li><li>'REC_MM_EQUIV_CUR'</li><li>'REC_MM_EQUIV_TX'</li><li>'REC_COLD_ISCH_TM'</li><li>'REC_CREAT'</li><li>'REC_DISCHRG_CREAT'</li><li>'time'</li><li>'status'</li><li>'dialysistotx'</li><li>'txtodischarge'</li></ol>\n"
      ],
      "text/latex": [
       "\\begin{enumerate*}\n",
       "\\item 'CAN\\_ABO'\n",
       "\\item 'CAN\\_DIAB\\_TY'\n",
       "\\item 'CAN\\_GENDER'\n",
       "\\item 'CAN\\_MALIG'\n",
       "\\item 'DON\\_ABO'\n",
       "\\item 'DON\\_AGE'\n",
       "\\item 'DON\\_GENDER'\n",
       "\\item 'REC\\_AGE\\_AT\\_TX'\n",
       "\\item 'REC\\_A\\_MM\\_EQUIV\\_CUR'\n",
       "\\item 'REC\\_A\\_MM\\_EQUIV\\_TX'\n",
       "\\item 'REC\\_B\\_MM\\_EQUIV\\_CUR'\n",
       "\\item 'REC\\_B\\_MM\\_EQUIV\\_TX'\n",
       "\\item 'REC\\_DR\\_MM\\_EQUIV\\_CUR'\n",
       "\\item 'REC\\_DR\\_MM\\_EQUIV\\_TX'\n",
       "\\item 'REC\\_MM\\_EQUIV\\_CUR'\n",
       "\\item 'REC\\_MM\\_EQUIV\\_TX'\n",
       "\\item 'REC\\_COLD\\_ISCH\\_TM'\n",
       "\\item 'REC\\_CREAT'\n",
       "\\item 'REC\\_DISCHRG\\_CREAT'\n",
       "\\item 'time'\n",
       "\\item 'status'\n",
       "\\item 'dialysistotx'\n",
       "\\item 'txtodischarge'\n",
       "\\end{enumerate*}\n"
      ],
      "text/markdown": [
       "1. 'CAN_ABO'\n",
       "2. 'CAN_DIAB_TY'\n",
       "3. 'CAN_GENDER'\n",
       "4. 'CAN_MALIG'\n",
       "5. 'DON_ABO'\n",
       "6. 'DON_AGE'\n",
       "7. 'DON_GENDER'\n",
       "8. 'REC_AGE_AT_TX'\n",
       "9. 'REC_A_MM_EQUIV_CUR'\n",
       "10. 'REC_A_MM_EQUIV_TX'\n",
       "11. 'REC_B_MM_EQUIV_CUR'\n",
       "12. 'REC_B_MM_EQUIV_TX'\n",
       "13. 'REC_DR_MM_EQUIV_CUR'\n",
       "14. 'REC_DR_MM_EQUIV_TX'\n",
       "15. 'REC_MM_EQUIV_CUR'\n",
       "16. 'REC_MM_EQUIV_TX'\n",
       "17. 'REC_COLD_ISCH_TM'\n",
       "18. 'REC_CREAT'\n",
       "19. 'REC_DISCHRG_CREAT'\n",
       "20. 'time'\n",
       "21. 'status'\n",
       "22. 'dialysistotx'\n",
       "23. 'txtodischarge'\n",
       "\n",
       "\n"
      ],
      "text/plain": [
       " [1] \"CAN_ABO\"             \"CAN_DIAB_TY\"         \"CAN_GENDER\"         \n",
       " [4] \"CAN_MALIG\"           \"DON_ABO\"             \"DON_AGE\"            \n",
       " [7] \"DON_GENDER\"          \"REC_AGE_AT_TX\"       \"REC_A_MM_EQUIV_CUR\" \n",
       "[10] \"REC_A_MM_EQUIV_TX\"   \"REC_B_MM_EQUIV_CUR\"  \"REC_B_MM_EQUIV_TX\"  \n",
       "[13] \"REC_DR_MM_EQUIV_CUR\" \"REC_DR_MM_EQUIV_TX\"  \"REC_MM_EQUIV_CUR\"   \n",
       "[16] \"REC_MM_EQUIV_TX\"     \"REC_COLD_ISCH_TM\"    \"REC_CREAT\"          \n",
       "[19] \"REC_DISCHRG_CREAT\"   \"time\"                \"status\"             \n",
       "[22] \"dialysistotx\"        \"txtodischarge\"      "
      ]
     },
     "metadata": {},
     "output_type": "display_data"
    }
   ],
   "source": [
    "head(test)\n",
    "colnames(test)\n",
    "test$time <- as.integer(test$time)\n"
   ]
  },
  {
   "cell_type": "markdown",
   "id": "e1e98ddc-a17f-4857-afc8-2c6effb9b852",
   "metadata": {},
   "source": [
    "# many of the distributions don't accept 0 as a time => we added 0.0001 to account for that "
   ]
  },
  {
   "cell_type": "code",
   "execution_count": 33,
   "id": "45b74da5-9f70-4b9b-8f43-98b8a0745e42",
   "metadata": {},
   "outputs": [],
   "source": [
    "test$time[test$time ==0]<- 0.0001"
   ]
  },
  {
   "cell_type": "markdown",
   "id": "8d7338ec-17d2-44ee-abaf-81e135c5563d",
   "metadata": {},
   "source": [
    "Fit the available parametric models from survival package"
   ]
  },
  {
   "cell_type": "code",
   "execution_count": 36,
   "id": "a8282ea0-e7ac-4e29-84cf-02a67bc6184d",
   "metadata": {},
   "outputs": [],
   "source": [
    "s <- Surv(time,status) ~CAN_GENDER+CAN_ABO+CAN_DIAB_TY+CAN_MALIG+DON_ABO+DON_AGE+DON_GENDER+REC_AGE_AT_TX+REC_A_MM_EQUIV_CUR+REC_A_MM_EQUIV_TX+REC_B_MM_EQUIV_CUR+REC_B_MM_EQUIV_TX+REC_DR_MM_EQUIV_CUR+REC_DR_MM_EQUIV_TX+REC_MM_EQUIV_CUR+REC_MM_EQUIV_TX+REC_COLD_ISCH_TM+REC_CREAT+REC_DISCHRG_CREAT+dialysistotx+txtodischarge"
   ]
  },
  {
   "cell_type": "code",
   "execution_count": 39,
   "id": "7066c251-fa23-4e27-b7ee-5922a369d566",
   "metadata": {},
   "outputs": [],
   "source": [
    "fitwb <- survreg(s, data=test, dist = \"weibull\") \n",
    "fitexp <- survreg(s, data = test, dist = \"exponential\")"
   ]
  },
  {
   "cell_type": "code",
   "execution_count": 40,
   "id": "078c6caf-4a83-4f1d-a9f8-708441c2e2f8",
   "metadata": {},
   "outputs": [],
   "source": [
    "fitgaus <- survreg(s, data = test, dist = \"gaussian\")\n",
    "fitlog <- survreg(s, data = test, dist = \"logistic\")"
   ]
  },
  {
   "cell_type": "code",
   "execution_count": 41,
   "id": "d4a12a26-d5f6-481a-844c-d15a994a800a",
   "metadata": {},
   "outputs": [],
   "source": [
    "fitlognorm <- survreg(s, data = test, dist = \"lognormal\")\n",
    "fitloglog <- survreg(s, data = test, dist = \"loglogistic\")"
   ]
  },
  {
   "cell_type": "code",
   "execution_count": 57,
   "id": "8c965a5f-3ce1-4083-8bcd-2d80f5a98731",
   "metadata": {},
   "outputs": [],
   "source": [
    "a<-extractAIC(fitwb)\n",
    "b<-extractAIC(fitexp)\n",
    "c<-extractAIC(fitgaus)\n",
    "d<-extractAIC(fitlog)\n",
    "e<-extractAIC(fitlognorm)\n",
    "f<-extractAIC(fitloglog)\n",
    "g <- c(52, 835166.443921923)\n",
    "aicput <- rbind(a,b,c,d,e,f,g)\n",
    "namemod <- c(\"Weibull\", \"Exponential\", \"Gaussian\", \"Logistic\", \"Lognormal\", \"Loglogistic\", \"Cox\")\n",
    "aicput <- cbind(aicput, namemod)"
   ]
  },
  {
   "cell_type": "code",
   "execution_count": 58,
   "id": "7c5b7cb8-e785-478e-ae5f-125172967cf2",
   "metadata": {},
   "outputs": [],
   "source": [
    "aicput <- data.table(aicput)\n",
    "names(aicput)[1]<- \"DF\"\n",
    "names(aicput)[2]<- \"AIC\"\n",
    "aicput$AIC <- as.double(aicput$AIC)\n",
    "aicput$AIC <- round(aicput$AIC, 2)"
   ]
  },
  {
   "cell_type": "code",
   "execution_count": 59,
   "id": "822e6a33-7203-4a70-afe2-50161b6c6b76",
   "metadata": {},
   "outputs": [
    {
     "data": {
      "text/html": [
       "<table class=\"dataframe\">\n",
       "<caption>A data.table: 7 × 3</caption>\n",
       "<thead>\n",
       "\t<tr><th scope=col>DF</th><th scope=col>AIC</th><th scope=col>namemod</th></tr>\n",
       "\t<tr><th scope=col>&lt;chr&gt;</th><th scope=col>&lt;dbl&gt;</th><th scope=col>&lt;chr&gt;</th></tr>\n",
       "</thead>\n",
       "<tbody>\n",
       "\t<tr><td>56</td><td>749430.3</td><td>Weibull    </td></tr>\n",
       "\t<tr><td>55</td><td>751897.9</td><td>Exponential</td></tr>\n",
       "\t<tr><td>56</td><td>769535.5</td><td>Gaussian   </td></tr>\n",
       "\t<tr><td>56</td><td>774098.5</td><td>Logistic   </td></tr>\n",
       "\t<tr><td>56</td><td>772046.9</td><td>Lognormal  </td></tr>\n",
       "\t<tr><td>56</td><td>752226.6</td><td>Loglogistic</td></tr>\n",
       "\t<tr><td>52</td><td>835166.4</td><td>Cox        </td></tr>\n",
       "</tbody>\n",
       "</table>\n"
      ],
      "text/latex": [
       "A data.table: 7 × 3\n",
       "\\begin{tabular}{lll}\n",
       " DF & AIC & namemod\\\\\n",
       " <chr> & <dbl> & <chr>\\\\\n",
       "\\hline\n",
       "\t 56 & 749430.3 & Weibull    \\\\\n",
       "\t 55 & 751897.9 & Exponential\\\\\n",
       "\t 56 & 769535.5 & Gaussian   \\\\\n",
       "\t 56 & 774098.5 & Logistic   \\\\\n",
       "\t 56 & 772046.9 & Lognormal  \\\\\n",
       "\t 56 & 752226.6 & Loglogistic\\\\\n",
       "\t 52 & 835166.4 & Cox        \\\\\n",
       "\\end{tabular}\n"
      ],
      "text/markdown": [
       "\n",
       "A data.table: 7 × 3\n",
       "\n",
       "| DF &lt;chr&gt; | AIC &lt;dbl&gt; | namemod &lt;chr&gt; |\n",
       "|---|---|---|\n",
       "| 56 | 749430.3 | Weibull     |\n",
       "| 55 | 751897.9 | Exponential |\n",
       "| 56 | 769535.5 | Gaussian    |\n",
       "| 56 | 774098.5 | Logistic    |\n",
       "| 56 | 772046.9 | Lognormal   |\n",
       "| 56 | 752226.6 | Loglogistic |\n",
       "| 52 | 835166.4 | Cox         |\n",
       "\n"
      ],
      "text/plain": [
       "  DF AIC      namemod    \n",
       "1 56 749430.3 Weibull    \n",
       "2 55 751897.9 Exponential\n",
       "3 56 769535.5 Gaussian   \n",
       "4 56 774098.5 Logistic   \n",
       "5 56 772046.9 Lognormal  \n",
       "6 56 752226.6 Loglogistic\n",
       "7 52 835166.4 Cox        "
      ]
     },
     "metadata": {},
     "output_type": "display_data"
    }
   ],
   "source": [
    "aicput"
   ]
  },
  {
   "cell_type": "code",
   "execution_count": 71,
   "id": "eee6b032-7aeb-49ca-af02-8395c28b0d07",
   "metadata": {},
   "outputs": [
    {
     "data": {
      "text/plain": [
       "\n",
       "Call:\n",
       "survreg(formula = s, data = test, dist = \"weibull\")\n",
       "                         Value Std. Error      z       p\n",
       "(Intercept)           9.52e+00   4.34e-02 219.53 < 2e-16\n",
       "CAN_GENDERM           1.81e-01   1.37e-02  13.24 < 2e-16\n",
       "CAN_ABOA1            -1.33e-01   6.07e-02  -2.19 0.02834\n",
       "CAN_ABOA1B           -1.33e-01   1.97e-01  -0.67 0.50066\n",
       "CAN_ABOA2            -1.62e-01   1.43e-01  -1.13 0.25780\n",
       "CAN_ABOA2B           -7.61e-01   2.79e-01  -2.73 0.00633\n",
       "CAN_ABOAB             8.78e-02   4.80e-02   1.83 0.06726\n",
       "CAN_ABOB              2.27e-02   4.70e-02   0.48 0.62863\n",
       "CAN_ABOO             -3.28e-02   3.25e-02  -1.01 0.31352\n",
       "CAN_DIAB_TY2          2.49e-01   3.93e-02   6.35 2.2e-10\n",
       "CAN_DIAB_TY3          8.54e-02   1.92e-02   4.44 9.2e-06\n",
       "CAN_DIAB_TY4          3.10e-01   1.18e-01   2.62 0.00876\n",
       "CAN_DIAB_TY5         -3.97e-01   2.57e-02 -15.47 < 2e-16\n",
       "CAN_DIAB_TY998       -3.99e-02   7.65e-02  -0.52 0.60259\n",
       "CAN_MALIGU           -3.03e-01   4.32e-02  -7.01 2.4e-12\n",
       "CAN_MALIGY            1.93e-01   3.53e-02   5.48 4.4e-08\n",
       "DON_ABOA1             8.04e-02   2.37e-02   3.40 0.00069\n",
       "DON_ABOA1B            3.62e-02   8.48e-02   0.43 0.66974\n",
       "DON_ABOA2             1.41e-01   4.94e-02   2.86 0.00420\n",
       "DON_ABOA2B            2.17e-01   1.40e-01   1.54 0.12315\n",
       "DON_ABOAB            -1.28e-01   7.02e-02  -1.83 0.06715\n",
       "DON_ABOB             -2.06e-03   5.17e-02  -0.04 0.96819\n",
       "DON_ABOO              4.45e-02   3.42e-02   1.30 0.19345\n",
       "DON_AGE              -1.61e-02   4.74e-04 -33.85 < 2e-16\n",
       "DON_GENDERM           9.05e-02   1.32e-02   6.86 7.1e-12\n",
       "REC_AGE_AT_TX         3.40e-02   4.98e-04  68.31 < 2e-16\n",
       "REC_A_MM_EQUIV_CUR1  -5.46e-01   1.46e-01  -3.74 0.00018\n",
       "REC_A_MM_EQUIV_CUR2  -9.76e-01   1.90e-01  -5.14 2.7e-07\n",
       "REC_A_MM_EQUIV_TX1    5.02e-01   1.47e-01   3.42 0.00063\n",
       "REC_A_MM_EQUIV_TX2    8.96e-01   1.91e-01   4.70 2.6e-06\n",
       "REC_B_MM_EQUIV_CUR1  -2.93e-01   1.22e-01  -2.39 0.01668\n",
       "REC_B_MM_EQUIV_CUR2  -6.67e-01   1.37e-01  -4.89 1.0e-06\n",
       "REC_B_MM_EQUIV_TX1    3.26e-01   1.23e-01   2.65 0.00810\n",
       "REC_B_MM_EQUIV_TX2    7.13e-01   1.37e-01   5.21 1.8e-07\n",
       "REC_DR_MM_EQUIV_CUR1 -4.36e-01   5.17e-02  -8.45 < 2e-16\n",
       "REC_DR_MM_EQUIV_CUR2 -8.58e-01   6.50e-02 -13.19 < 2e-16\n",
       "REC_DR_MM_EQUIV_TX1   3.38e-01   5.04e-02   6.69 2.2e-11\n",
       "REC_DR_MM_EQUIV_TX2   6.63e-01   6.61e-02  10.02 < 2e-16\n",
       "REC_MM_EQUIV_CUR1     2.01e-02   7.60e-02   0.26 0.79165\n",
       "REC_MM_EQUIV_CUR2    -1.25e-01   1.02e-01  -1.23 0.21920\n",
       "REC_MM_EQUIV_CUR3    -1.10e-01   1.07e-01  -1.03 0.30207\n",
       "REC_MM_EQUIV_CUR4    -1.36e-01   9.15e-02  -1.48 0.13761\n",
       "REC_MM_EQUIV_CUR5    -2.17e-01   6.83e-02  -3.17 0.00152\n",
       "REC_MM_EQUIV_CUR6    -2.12e-01   0.00e+00   -Inf < 2e-16\n",
       "REC_MM_EQUIV_TX1     -6.77e-02   8.27e-02  -0.82 0.41313\n",
       "REC_MM_EQUIV_TX2      1.03e-02   1.02e-01   0.10 0.91972\n",
       "REC_MM_EQUIV_TX3     -5.36e-02   1.07e-01  -0.50 0.61617\n",
       "REC_MM_EQUIV_TX4     -1.22e-02   9.23e-02  -0.13 0.89510\n",
       "REC_MM_EQUIV_TX5      4.44e-02   6.94e-02   0.64 0.52265\n",
       "REC_MM_EQUIV_TX6      0.00e+00   0.00e+00    NaN     NaN\n",
       "REC_COLD_ISCH_TM     -1.10e-02   6.40e-04 -17.16 < 2e-16\n",
       "REC_CREAT            -7.09e-03   1.88e-03  -3.76 0.00017\n",
       "REC_DISCHRG_CREAT    -1.11e-01   2.14e-03 -52.04 < 2e-16\n",
       "dialysistotx          7.61e-06   5.83e-06   1.30 0.19232\n",
       "txtodischarge        -2.64e-03   1.57e-04 -16.85 < 2e-16\n",
       "Log(scale)            2.16e-01   4.55e-03  47.45 < 2e-16\n",
       "\n",
       "Scale= 1.24 \n",
       "\n",
       "Weibull distribution\n",
       "Loglik(model)= -374659.1   Loglik(intercept only)= -380187\n",
       "\tChisq= 11055.68 on 54 degrees of freedom, p= 0 \n",
       "Number of Newton-Raphson Iterations: 10 \n",
       "n= 247205 \n"
      ]
     },
     "metadata": {},
     "output_type": "display_data"
    }
   ],
   "source": [
    "summary(fitwb)"
   ]
  },
  {
   "cell_type": "code",
   "execution_count": 77,
   "id": "32b93e67-c39e-48ec-b1f5-7c19cb824d8f",
   "metadata": {},
   "outputs": [
    {
     "data": {
      "text/plain": [
       "\n",
       "\n",
       "                             coef.         s.e.             p\n",
       "(Intercept)           9.519465e+00 4.336266e-02  0.000000e+00\n",
       "CAN_GENDERM           1.812246e-01 1.368438e-02  4.941449e-40\n",
       "CAN_ABOA1            -1.331660e-01 6.073630e-02  2.834146e-02\n",
       "CAN_ABOA1B           -1.328334e-01 1.972441e-01  5.006632e-01\n",
       "CAN_ABOA2            -1.617385e-01 1.429278e-01  2.577984e-01\n",
       "CAN_ABOA2B           -7.613464e-01 2.788737e-01  6.331964e-03\n",
       "CAN_ABOAB             8.779702e-02 4.797790e-02  6.725785e-02\n",
       "CAN_ABOB              2.273784e-02 4.701258e-02  6.286312e-01\n",
       "CAN_ABOO             -3.278117e-02 3.252510e-02  3.135155e-01\n",
       "CAN_DIAB_TY2          2.494969e-01 3.929851e-02  2.170530e-10\n",
       "CAN_DIAB_TY3          8.536389e-02 1.924282e-02  9.158536e-06\n",
       "CAN_DIAB_TY4          3.097315e-01 1.181597e-01  8.759665e-03\n",
       "CAN_DIAB_TY5         -3.970434e-01 2.566143e-02  5.329870e-54\n",
       "CAN_DIAB_TY998       -3.985195e-02 7.653914e-02  6.025938e-01\n",
       "CAN_MALIGU           -3.028840e-01 4.320766e-02  2.383840e-12\n",
       "CAN_MALIGY            1.931359e-01 3.527222e-02  4.360761e-08\n",
       "DON_ABOA1             8.042691e-02 2.368709e-02  6.853074e-04\n",
       "DON_ABOA1B            3.617041e-02 8.480692e-02  6.697413e-01\n",
       "DON_ABOA2             1.414982e-01 4.943119e-02  4.202767e-03\n",
       "DON_ABOA2B            2.165191e-01 1.404440e-01  1.231524e-01\n",
       "DON_ABOAB            -1.284822e-01 7.018309e-02  6.714947e-02\n",
       "DON_ABOB             -2.060139e-03 5.166657e-02  9.681938e-01\n",
       "DON_ABOO              4.448564e-02 3.420827e-02  1.934518e-01\n",
       "DON_AGE              -1.605943e-02 4.744224e-04 3.569770e-251\n",
       "DON_GENDERM           9.045746e-02 1.319566e-02  7.126688e-12\n",
       "REC_AGE_AT_TX         3.398767e-02 4.975783e-04  0.000000e+00\n",
       "REC_A_MM_EQUIV_CUR1  -5.457893e-01 1.457629e-01  1.808522e-04\n",
       "REC_A_MM_EQUIV_CUR2  -9.761689e-01 1.898935e-01  2.738456e-07\n",
       "REC_A_MM_EQUIV_TX1    5.024487e-01 1.470072e-01  6.311760e-04\n",
       "REC_A_MM_EQUIV_TX2    8.956773e-01 1.907109e-01  2.646332e-06\n",
       "REC_B_MM_EQUIV_CUR1  -2.925167e-01 1.222001e-01  1.667706e-02\n",
       "REC_B_MM_EQUIV_CUR2  -6.672150e-01 1.365493e-01  1.027702e-06\n",
       "REC_B_MM_EQUIV_TX1    3.264927e-01 1.233036e-01  8.099891e-03\n",
       "REC_B_MM_EQUIV_TX2    7.131443e-01 1.367636e-01  1.843847e-07\n",
       "REC_DR_MM_EQUIV_CUR1 -4.363697e-01 5.166384e-02  3.006085e-17\n",
       "REC_DR_MM_EQUIV_CUR2 -8.578810e-01 6.503788e-02  9.954544e-40\n",
       "REC_DR_MM_EQUIV_TX1   3.376278e-01 5.043241e-02  2.161747e-11\n",
       "REC_DR_MM_EQUIV_TX2   6.627219e-01 6.612443e-02  1.215830e-23\n",
       "REC_MM_EQUIV_CUR1     2.007874e-02 7.600884e-02  7.916541e-01\n",
       "REC_MM_EQUIV_CUR2    -1.248674e-01 1.016285e-01  2.191971e-01\n",
       "REC_MM_EQUIV_CUR3    -1.099526e-01 1.065420e-01  3.020665e-01\n",
       "REC_MM_EQUIV_CUR4    -1.359009e-01 9.153001e-02  1.376052e-01\n",
       "REC_MM_EQUIV_CUR5    -2.166628e-01 6.832324e-02  1.518402e-03\n",
       "REC_MM_EQUIV_CUR6    -2.123559e-01 0.000000e+00  0.000000e+00\n",
       "REC_MM_EQUIV_TX1     -6.765575e-02 8.266796e-02  4.131268e-01\n",
       "REC_MM_EQUIV_TX2      1.031543e-02 1.023467e-01  9.197178e-01\n",
       "REC_MM_EQUIV_TX3     -5.359336e-02 1.069114e-01  6.161688e-01\n",
       "REC_MM_EQUIV_TX4     -1.216523e-02 9.226153e-02  8.950983e-01\n",
       "REC_MM_EQUIV_TX5      4.436027e-02 6.939231e-02  5.226488e-01\n",
       "REC_MM_EQUIV_TX6      0.000000e+00 0.000000e+00           NaN\n",
       "REC_COLD_ISCH_TM     -1.098700e-02 6.402728e-04  5.302934e-66\n",
       "REC_CREAT            -7.089422e-03 1.883827e-03  1.676797e-04\n",
       "REC_DISCHRG_CREAT    -1.111161e-01 2.135289e-03  0.000000e+00\n",
       "dialysistotx          7.605330e-06 5.833377e-06  1.923150e-01\n",
       "txtodischarge        -2.638788e-03 1.566241e-04  1.086904e-63\n",
       "Log(scale)            2.157562e-01 4.547379e-03  0.000000e+00\n",
       "\n",
       "                     GOF dec. places\n",
       "AIC             749430.3        TRUE\n",
       "BIC             750013.7        TRUE\n",
       "Log Likelihood -374659.1        TRUE\n",
       "Num. obs.       247205.0       FALSE\n"
      ]
     },
     "metadata": {},
     "output_type": "display_data"
    }
   ],
   "source": [
    "extract(\n",
    "  fitwb,\n",
    "  include.aic = TRUE,\n",
    "  include.bic = TRUE,\n",
    "  include.loglik = TRUE,\n",
    "  include.deviance = TRUE,\n",
    "  include.nobs = TRUE,\n",
    ")"
   ]
  },
  {
   "cell_type": "code",
   "execution_count": null,
   "id": "97568ab1-9d84-45a0-8276-6cea14cc31b3",
   "metadata": {},
   "outputs": [],
   "source": []
  }
 ],
 "metadata": {
  "kernelspec": {
   "display_name": "R",
   "language": "R",
   "name": "ir"
  },
  "language_info": {
   "codemirror_mode": "r",
   "file_extension": ".r",
   "mimetype": "text/x-r-source",
   "name": "R",
   "pygments_lexer": "r",
   "version": "4.2.0"
  }
 },
 "nbformat": 4,
 "nbformat_minor": 5
}
