{
 "cells": [
  {
   "cell_type": "code",
   "execution_count": 1,
   "id": "fe5f25e3-f725-4cd2-b51d-3dd241da4b1b",
   "metadata": {},
   "outputs": [
    {
     "name": "stderr",
     "output_type": "stream",
     "text": [
      "\n",
      "Attaching package: ‘arrow’\n",
      "\n",
      "\n",
      "The following object is masked from ‘package:utils’:\n",
      "\n",
      "    timestamp\n",
      "\n",
      "\n",
      "── \u001b[1mAttaching packages\u001b[22m ────────────────────────────────────────────────────────────────────────────────────────────────────────────────────── tidyverse 1.3.1 ──\n",
      "\n",
      "\u001b[32m✔\u001b[39m \u001b[34mggplot2\u001b[39m 3.3.6     \u001b[32m✔\u001b[39m \u001b[34mpurrr  \u001b[39m 0.3.4\n",
      "\u001b[32m✔\u001b[39m \u001b[34mtibble \u001b[39m 3.1.7     \u001b[32m✔\u001b[39m \u001b[34mdplyr  \u001b[39m 1.0.9\n",
      "\u001b[32m✔\u001b[39m \u001b[34mtidyr  \u001b[39m 1.2.0     \u001b[32m✔\u001b[39m \u001b[34mstringr\u001b[39m 1.4.0\n",
      "\u001b[32m✔\u001b[39m \u001b[34mreadr  \u001b[39m 2.1.2     \u001b[32m✔\u001b[39m \u001b[34mforcats\u001b[39m 0.5.1\n",
      "\n",
      "── \u001b[1mConflicts\u001b[22m ───────────────────────────────────────────────────────────────────────────────────────────────────────────────────────── tidyverse_conflicts() ──\n",
      "\u001b[31m✖\u001b[39m \u001b[34mdplyr\u001b[39m::\u001b[32mfilter()\u001b[39m masks \u001b[34mstats\u001b[39m::filter()\n",
      "\u001b[31m✖\u001b[39m \u001b[34mdplyr\u001b[39m::\u001b[32mlag()\u001b[39m    masks \u001b[34mstats\u001b[39m::lag()\n",
      "\n",
      "\n",
      "Attaching package: ‘feather’\n",
      "\n",
      "\n",
      "The following objects are masked from ‘package:arrow’:\n",
      "\n",
      "    read_feather, write_feather\n",
      "\n",
      "\n",
      "Loading required package: ggpubr\n",
      "\n",
      "\n",
      "Attaching package: ‘survminer’\n",
      "\n",
      "\n",
      "The following object is masked from ‘package:survival’:\n",
      "\n",
      "    myeloma\n",
      "\n",
      "\n"
     ]
    }
   ],
   "source": [
    "library(\"survival\")\n",
    "library(\"arrow\")\n",
    "library(\"tidyverse\")\n",
    "library(\"feather\")\n",
    "library(\"survminer\")\n",
    "library(\"ggplot2\")\n",
    "library(\"tableone\")\n",
    "library(\"ggfortify\")"
   ]
  },
  {
   "cell_type": "code",
   "execution_count": 2,
   "id": "90a36777-2e94-4ce4-a674-70b20a85224a",
   "metadata": {},
   "outputs": [
    {
     "data": {
      "text/html": [
       "<table class=\"dataframe\">\n",
       "<caption>A tibble: 6 × 48</caption>\n",
       "<thead>\n",
       "\t<tr><th scope=col>CAN_ABO</th><th scope=col>CAN_ANGINA</th><th scope=col>REC_DGN</th><th scope=col>CAN_DIAB_TY</th><th scope=col>CAN_GENDER</th><th scope=col>CAN_HGT_CM</th><th scope=col>CAN_MALIG</th><th scope=col>CAN_RACE</th><th scope=col>CAN_WGT_KG</th><th scope=col>DONOR_ID</th><th scope=col>⋯</th><th scope=col>REC_PREV_GRAFT1_DT</th><th scope=col>REC_GRAFT_STAT</th><th scope=col>REC_HGT_WGT_DT</th><th scope=col>REC_PROD_URINE_GT40_24HRS</th><th scope=col>REC_TX_DT</th><th scope=col>TFL_DEATH_DT</th><th scope=col>TFL_GRAFT_DT</th><th scope=col>TFL_LAFUDATE</th><th scope=col>TX_ID</th><th scope=col>TFL_COD</th></tr>\n",
       "\t<tr><th scope=col>&lt;chr&gt;</th><th scope=col>&lt;dbl&gt;</th><th scope=col>&lt;dbl&gt;</th><th scope=col>&lt;dbl&gt;</th><th scope=col>&lt;chr&gt;</th><th scope=col>&lt;dbl&gt;</th><th scope=col>&lt;chr&gt;</th><th scope=col>&lt;dbl&gt;</th><th scope=col>&lt;dbl&gt;</th><th scope=col>&lt;int&gt;</th><th scope=col>⋯</th><th scope=col>&lt;dttm&gt;</th><th scope=col>&lt;chr&gt;</th><th scope=col>&lt;dttm&gt;</th><th scope=col>&lt;chr&gt;</th><th scope=col>&lt;dttm&gt;</th><th scope=col>&lt;dttm&gt;</th><th scope=col>&lt;dttm&gt;</th><th scope=col>&lt;dttm&gt;</th><th scope=col>&lt;int&gt;</th><th scope=col>&lt;dbl&gt;</th></tr>\n",
       "</thead>\n",
       "<tbody>\n",
       "\t<tr><td>B</td><td>NA</td><td>3070</td><td>3</td><td>M</td><td>170.20</td><td>N</td><td>  16</td><td>63.500</td><td>421873</td><td>⋯</td><td>NA</td><td>Y</td><td>NA</td><td>Y </td><td>2012-12-20 01:00:00</td><td>NA</td><td>2018-12-27 01:00:00</td><td>2018-12-27 01:00:00</td><td>1590873</td><td>  NA</td></tr>\n",
       "\t<tr><td>A</td><td>NA</td><td>3034</td><td>1</td><td>M</td><td>180.34</td><td>N</td><td>   8</td><td>88.900</td><td>421665</td><td>⋯</td><td>NA</td><td>Y</td><td>NA</td><td>Y </td><td>2013-01-22 01:00:00</td><td>NA</td><td>NA</td><td>2021-01-23 01:00:00</td><td>1593148</td><td>  NA</td></tr>\n",
       "\t<tr><td>O</td><td>NA</td><td>3040</td><td>1</td><td>M</td><td>180.00</td><td>N</td><td>   8</td><td>86.680</td><td>420796</td><td>⋯</td><td>NA</td><td>Y</td><td>NA</td><td>Y </td><td>2012-11-26 01:00:00</td><td>NA</td><td>2017-10-12 02:00:00</td><td>2017-11-16 01:00:00</td><td>1588938</td><td>  NA</td></tr>\n",
       "\t<tr><td>O</td><td>NA</td><td>3070</td><td>3</td><td>M</td><td>172.00</td><td>N</td><td>2000</td><td>86.000</td><td>421449</td><td>⋯</td><td>NA</td><td>Y</td><td>NA</td><td>NA</td><td>2012-12-07 01:00:00</td><td>2021-06-17 02:00:00</td><td>NA</td><td>2021-06-17 02:00:00</td><td>1589878</td><td>3500</td></tr>\n",
       "\t<tr><td>B</td><td>NA</td><td>3001</td><td>1</td><td>F</td><td>157.48</td><td>N</td><td>  16</td><td>56.699</td><td>421690</td><td>⋯</td><td>NA</td><td>Y</td><td>NA</td><td>Y </td><td>2013-02-13 01:00:00</td><td>NA</td><td>NA</td><td>2021-02-04 01:00:00</td><td>1594745</td><td>  NA</td></tr>\n",
       "\t<tr><td>A</td><td>NA</td><td>3006</td><td>1</td><td>M</td><td>177.80</td><td>N</td><td>   8</td><td>71.670</td><td>422794</td><td>⋯</td><td>NA</td><td>Y</td><td>NA</td><td>NA</td><td>2013-01-01 01:00:00</td><td>NA</td><td>NA</td><td>2020-10-24 02:00:00</td><td>1591556</td><td>  NA</td></tr>\n",
       "</tbody>\n",
       "</table>\n"
      ],
      "text/latex": [
       "A tibble: 6 × 48\n",
       "\\begin{tabular}{lllllllllllllllllllll}\n",
       " CAN\\_ABO & CAN\\_ANGINA & REC\\_DGN & CAN\\_DIAB\\_TY & CAN\\_GENDER & CAN\\_HGT\\_CM & CAN\\_MALIG & CAN\\_RACE & CAN\\_WGT\\_KG & DONOR\\_ID & ⋯ & REC\\_PREV\\_GRAFT1\\_DT & REC\\_GRAFT\\_STAT & REC\\_HGT\\_WGT\\_DT & REC\\_PROD\\_URINE\\_GT40\\_24HRS & REC\\_TX\\_DT & TFL\\_DEATH\\_DT & TFL\\_GRAFT\\_DT & TFL\\_LAFUDATE & TX\\_ID & TFL\\_COD\\\\\n",
       " <chr> & <dbl> & <dbl> & <dbl> & <chr> & <dbl> & <chr> & <dbl> & <dbl> & <int> & ⋯ & <dttm> & <chr> & <dttm> & <chr> & <dttm> & <dttm> & <dttm> & <dttm> & <int> & <dbl>\\\\\n",
       "\\hline\n",
       "\t B & NA & 3070 & 3 & M & 170.20 & N &   16 & 63.500 & 421873 & ⋯ & NA & Y & NA & Y  & 2012-12-20 01:00:00 & NA & 2018-12-27 01:00:00 & 2018-12-27 01:00:00 & 1590873 &   NA\\\\\n",
       "\t A & NA & 3034 & 1 & M & 180.34 & N &    8 & 88.900 & 421665 & ⋯ & NA & Y & NA & Y  & 2013-01-22 01:00:00 & NA & NA & 2021-01-23 01:00:00 & 1593148 &   NA\\\\\n",
       "\t O & NA & 3040 & 1 & M & 180.00 & N &    8 & 86.680 & 420796 & ⋯ & NA & Y & NA & Y  & 2012-11-26 01:00:00 & NA & 2017-10-12 02:00:00 & 2017-11-16 01:00:00 & 1588938 &   NA\\\\\n",
       "\t O & NA & 3070 & 3 & M & 172.00 & N & 2000 & 86.000 & 421449 & ⋯ & NA & Y & NA & NA & 2012-12-07 01:00:00 & 2021-06-17 02:00:00 & NA & 2021-06-17 02:00:00 & 1589878 & 3500\\\\\n",
       "\t B & NA & 3001 & 1 & F & 157.48 & N &   16 & 56.699 & 421690 & ⋯ & NA & Y & NA & Y  & 2013-02-13 01:00:00 & NA & NA & 2021-02-04 01:00:00 & 1594745 &   NA\\\\\n",
       "\t A & NA & 3006 & 1 & M & 177.80 & N &    8 & 71.670 & 422794 & ⋯ & NA & Y & NA & NA & 2013-01-01 01:00:00 & NA & NA & 2020-10-24 02:00:00 & 1591556 &   NA\\\\\n",
       "\\end{tabular}\n"
      ],
      "text/markdown": [
       "\n",
       "A tibble: 6 × 48\n",
       "\n",
       "| CAN_ABO &lt;chr&gt; | CAN_ANGINA &lt;dbl&gt; | REC_DGN &lt;dbl&gt; | CAN_DIAB_TY &lt;dbl&gt; | CAN_GENDER &lt;chr&gt; | CAN_HGT_CM &lt;dbl&gt; | CAN_MALIG &lt;chr&gt; | CAN_RACE &lt;dbl&gt; | CAN_WGT_KG &lt;dbl&gt; | DONOR_ID &lt;int&gt; | ⋯ ⋯ | REC_PREV_GRAFT1_DT &lt;dttm&gt; | REC_GRAFT_STAT &lt;chr&gt; | REC_HGT_WGT_DT &lt;dttm&gt; | REC_PROD_URINE_GT40_24HRS &lt;chr&gt; | REC_TX_DT &lt;dttm&gt; | TFL_DEATH_DT &lt;dttm&gt; | TFL_GRAFT_DT &lt;dttm&gt; | TFL_LAFUDATE &lt;dttm&gt; | TX_ID &lt;int&gt; | TFL_COD &lt;dbl&gt; |\n",
       "|---|---|---|---|---|---|---|---|---|---|---|---|---|---|---|---|---|---|---|---|---|\n",
       "| B | NA | 3070 | 3 | M | 170.20 | N |   16 | 63.500 | 421873 | ⋯ | NA | Y | NA | Y  | 2012-12-20 01:00:00 | NA | 2018-12-27 01:00:00 | 2018-12-27 01:00:00 | 1590873 |   NA |\n",
       "| A | NA | 3034 | 1 | M | 180.34 | N |    8 | 88.900 | 421665 | ⋯ | NA | Y | NA | Y  | 2013-01-22 01:00:00 | NA | NA | 2021-01-23 01:00:00 | 1593148 |   NA |\n",
       "| O | NA | 3040 | 1 | M | 180.00 | N |    8 | 86.680 | 420796 | ⋯ | NA | Y | NA | Y  | 2012-11-26 01:00:00 | NA | 2017-10-12 02:00:00 | 2017-11-16 01:00:00 | 1588938 |   NA |\n",
       "| O | NA | 3070 | 3 | M | 172.00 | N | 2000 | 86.000 | 421449 | ⋯ | NA | Y | NA | NA | 2012-12-07 01:00:00 | 2021-06-17 02:00:00 | NA | 2021-06-17 02:00:00 | 1589878 | 3500 |\n",
       "| B | NA | 3001 | 1 | F | 157.48 | N |   16 | 56.699 | 421690 | ⋯ | NA | Y | NA | Y  | 2013-02-13 01:00:00 | NA | NA | 2021-02-04 01:00:00 | 1594745 |   NA |\n",
       "| A | NA | 3006 | 1 | M | 177.80 | N |    8 | 71.670 | 422794 | ⋯ | NA | Y | NA | NA | 2013-01-01 01:00:00 | NA | NA | 2020-10-24 02:00:00 | 1591556 |   NA |\n",
       "\n"
      ],
      "text/plain": [
       "  CAN_ABO CAN_ANGINA REC_DGN CAN_DIAB_TY CAN_GENDER CAN_HGT_CM CAN_MALIG\n",
       "1 B       NA         3070    3           M          170.20     N        \n",
       "2 A       NA         3034    1           M          180.34     N        \n",
       "3 O       NA         3040    1           M          180.00     N        \n",
       "4 O       NA         3070    3           M          172.00     N        \n",
       "5 B       NA         3001    1           F          157.48     N        \n",
       "6 A       NA         3006    1           M          177.80     N        \n",
       "  CAN_RACE CAN_WGT_KG DONOR_ID ⋯ REC_PREV_GRAFT1_DT REC_GRAFT_STAT\n",
       "1   16     63.500     421873   ⋯ <NA>               Y             \n",
       "2    8     88.900     421665   ⋯ <NA>               Y             \n",
       "3    8     86.680     420796   ⋯ <NA>               Y             \n",
       "4 2000     86.000     421449   ⋯ <NA>               Y             \n",
       "5   16     56.699     421690   ⋯ <NA>               Y             \n",
       "6    8     71.670     422794   ⋯ <NA>               Y             \n",
       "  REC_HGT_WGT_DT REC_PROD_URINE_GT40_24HRS REC_TX_DT          \n",
       "1 <NA>           Y                         2012-12-20 01:00:00\n",
       "2 <NA>           Y                         2013-01-22 01:00:00\n",
       "3 <NA>           Y                         2012-11-26 01:00:00\n",
       "4 <NA>           NA                        2012-12-07 01:00:00\n",
       "5 <NA>           Y                         2013-02-13 01:00:00\n",
       "6 <NA>           NA                        2013-01-01 01:00:00\n",
       "  TFL_DEATH_DT        TFL_GRAFT_DT        TFL_LAFUDATE        TX_ID   TFL_COD\n",
       "1 <NA>                2018-12-27 01:00:00 2018-12-27 01:00:00 1590873   NA   \n",
       "2 <NA>                <NA>                2021-01-23 01:00:00 1593148   NA   \n",
       "3 <NA>                2017-10-12 02:00:00 2017-11-16 01:00:00 1588938   NA   \n",
       "4 2021-06-17 02:00:00 <NA>                2021-06-17 02:00:00 1589878 3500   \n",
       "5 <NA>                <NA>                2021-02-04 01:00:00 1594745   NA   \n",
       "6 <NA>                <NA>                2020-10-24 02:00:00 1591556   NA   "
      ]
     },
     "metadata": {},
     "output_type": "display_data"
    }
   ],
   "source": [
    "tx_df <-read_parquet(\"/home/project/data/students/srtr/tx_cohort.parquet\")\n",
    "head(tx_df)"
   ]
  },
  {
   "cell_type": "code",
   "execution_count": 3,
   "id": "0d22bb02-274d-4034-a7f6-fbd100ac7b71",
   "metadata": {},
   "outputs": [
    {
     "data": {
      "text/html": [
       "<style>\n",
       ".list-inline {list-style: none; margin:0; padding: 0}\n",
       ".list-inline>li {display: inline-block}\n",
       ".list-inline>li:not(:last-child)::after {content: \"\\00b7\"; padding: 0 .5ex}\n",
       "</style>\n",
       "<ol class=list-inline><li>'CAN_ABO'</li><li>'CAN_ANGINA'</li><li>'REC_DGN'</li><li>'CAN_DIAB_TY'</li><li>'CAN_GENDER'</li><li>'CAN_HGT_CM'</li><li>'CAN_MALIG'</li><li>'CAN_RACE'</li><li>'CAN_WGT_KG'</li><li>'DONOR_ID'</li><li>'DON_ABO'</li><li>'DON_AGE'</li><li>'DON_AGE_IN_MONTHS'</li><li>'DON_GENDER'</li><li>'REC_ACUTE_REJ_BIOPSY_CONFIRMED'</li><li>'REC_ACUTE_REJ_EPISODE'</li><li>'REC_AGE_AT_TX'</li><li>'REC_AGE_IN_MONTHS_AT_TX'</li><li>'REC_A_MM_EQUIV_CUR'</li><li>'REC_A_MM_EQUIV_TX'</li><li>'REC_BMI'</li><li>'REC_B_MM_EQUIV_CUR'</li><li>'REC_B_MM_EQUIV_TX'</li><li>'REC_DR_MM_EQUIV_CUR'</li><li>'REC_DR_MM_EQUIV_TX'</li><li>'REC_MM_EQUIV_CUR'</li><li>'REC_MM_EQUIV_TX'</li><li>'REC_COD'</li><li>'REC_COD2'</li><li>'REC_COD3'</li><li>'REC_COLD_ISCH_TM'</li><li>'REC_CREAT'</li><li>'REC_CREAT_DECLINE_GE25'</li><li>'REC_DISCHRG_CREAT'</li><li>'REC_DIAL_DT'</li><li>'REC_DISCHRG_DT'</li><li>'REC_FAIL_DT'</li><li>'REC_FAIL_CAUSE_TY'</li><li>'REC_PREV_GRAFT1_DT'</li><li>'REC_GRAFT_STAT'</li><li>'REC_HGT_WGT_DT'</li><li>'REC_PROD_URINE_GT40_24HRS'</li><li>'REC_TX_DT'</li><li>'TFL_DEATH_DT'</li><li>'TFL_GRAFT_DT'</li><li>'TFL_LAFUDATE'</li><li>'TX_ID'</li><li>'TFL_COD'</li></ol>\n"
      ],
      "text/latex": [
       "\\begin{enumerate*}\n",
       "\\item 'CAN\\_ABO'\n",
       "\\item 'CAN\\_ANGINA'\n",
       "\\item 'REC\\_DGN'\n",
       "\\item 'CAN\\_DIAB\\_TY'\n",
       "\\item 'CAN\\_GENDER'\n",
       "\\item 'CAN\\_HGT\\_CM'\n",
       "\\item 'CAN\\_MALIG'\n",
       "\\item 'CAN\\_RACE'\n",
       "\\item 'CAN\\_WGT\\_KG'\n",
       "\\item 'DONOR\\_ID'\n",
       "\\item 'DON\\_ABO'\n",
       "\\item 'DON\\_AGE'\n",
       "\\item 'DON\\_AGE\\_IN\\_MONTHS'\n",
       "\\item 'DON\\_GENDER'\n",
       "\\item 'REC\\_ACUTE\\_REJ\\_BIOPSY\\_CONFIRMED'\n",
       "\\item 'REC\\_ACUTE\\_REJ\\_EPISODE'\n",
       "\\item 'REC\\_AGE\\_AT\\_TX'\n",
       "\\item 'REC\\_AGE\\_IN\\_MONTHS\\_AT\\_TX'\n",
       "\\item 'REC\\_A\\_MM\\_EQUIV\\_CUR'\n",
       "\\item 'REC\\_A\\_MM\\_EQUIV\\_TX'\n",
       "\\item 'REC\\_BMI'\n",
       "\\item 'REC\\_B\\_MM\\_EQUIV\\_CUR'\n",
       "\\item 'REC\\_B\\_MM\\_EQUIV\\_TX'\n",
       "\\item 'REC\\_DR\\_MM\\_EQUIV\\_CUR'\n",
       "\\item 'REC\\_DR\\_MM\\_EQUIV\\_TX'\n",
       "\\item 'REC\\_MM\\_EQUIV\\_CUR'\n",
       "\\item 'REC\\_MM\\_EQUIV\\_TX'\n",
       "\\item 'REC\\_COD'\n",
       "\\item 'REC\\_COD2'\n",
       "\\item 'REC\\_COD3'\n",
       "\\item 'REC\\_COLD\\_ISCH\\_TM'\n",
       "\\item 'REC\\_CREAT'\n",
       "\\item 'REC\\_CREAT\\_DECLINE\\_GE25'\n",
       "\\item 'REC\\_DISCHRG\\_CREAT'\n",
       "\\item 'REC\\_DIAL\\_DT'\n",
       "\\item 'REC\\_DISCHRG\\_DT'\n",
       "\\item 'REC\\_FAIL\\_DT'\n",
       "\\item 'REC\\_FAIL\\_CAUSE\\_TY'\n",
       "\\item 'REC\\_PREV\\_GRAFT1\\_DT'\n",
       "\\item 'REC\\_GRAFT\\_STAT'\n",
       "\\item 'REC\\_HGT\\_WGT\\_DT'\n",
       "\\item 'REC\\_PROD\\_URINE\\_GT40\\_24HRS'\n",
       "\\item 'REC\\_TX\\_DT'\n",
       "\\item 'TFL\\_DEATH\\_DT'\n",
       "\\item 'TFL\\_GRAFT\\_DT'\n",
       "\\item 'TFL\\_LAFUDATE'\n",
       "\\item 'TX\\_ID'\n",
       "\\item 'TFL\\_COD'\n",
       "\\end{enumerate*}\n"
      ],
      "text/markdown": [
       "1. 'CAN_ABO'\n",
       "2. 'CAN_ANGINA'\n",
       "3. 'REC_DGN'\n",
       "4. 'CAN_DIAB_TY'\n",
       "5. 'CAN_GENDER'\n",
       "6. 'CAN_HGT_CM'\n",
       "7. 'CAN_MALIG'\n",
       "8. 'CAN_RACE'\n",
       "9. 'CAN_WGT_KG'\n",
       "10. 'DONOR_ID'\n",
       "11. 'DON_ABO'\n",
       "12. 'DON_AGE'\n",
       "13. 'DON_AGE_IN_MONTHS'\n",
       "14. 'DON_GENDER'\n",
       "15. 'REC_ACUTE_REJ_BIOPSY_CONFIRMED'\n",
       "16. 'REC_ACUTE_REJ_EPISODE'\n",
       "17. 'REC_AGE_AT_TX'\n",
       "18. 'REC_AGE_IN_MONTHS_AT_TX'\n",
       "19. 'REC_A_MM_EQUIV_CUR'\n",
       "20. 'REC_A_MM_EQUIV_TX'\n",
       "21. 'REC_BMI'\n",
       "22. 'REC_B_MM_EQUIV_CUR'\n",
       "23. 'REC_B_MM_EQUIV_TX'\n",
       "24. 'REC_DR_MM_EQUIV_CUR'\n",
       "25. 'REC_DR_MM_EQUIV_TX'\n",
       "26. 'REC_MM_EQUIV_CUR'\n",
       "27. 'REC_MM_EQUIV_TX'\n",
       "28. 'REC_COD'\n",
       "29. 'REC_COD2'\n",
       "30. 'REC_COD3'\n",
       "31. 'REC_COLD_ISCH_TM'\n",
       "32. 'REC_CREAT'\n",
       "33. 'REC_CREAT_DECLINE_GE25'\n",
       "34. 'REC_DISCHRG_CREAT'\n",
       "35. 'REC_DIAL_DT'\n",
       "36. 'REC_DISCHRG_DT'\n",
       "37. 'REC_FAIL_DT'\n",
       "38. 'REC_FAIL_CAUSE_TY'\n",
       "39. 'REC_PREV_GRAFT1_DT'\n",
       "40. 'REC_GRAFT_STAT'\n",
       "41. 'REC_HGT_WGT_DT'\n",
       "42. 'REC_PROD_URINE_GT40_24HRS'\n",
       "43. 'REC_TX_DT'\n",
       "44. 'TFL_DEATH_DT'\n",
       "45. 'TFL_GRAFT_DT'\n",
       "46. 'TFL_LAFUDATE'\n",
       "47. 'TX_ID'\n",
       "48. 'TFL_COD'\n",
       "\n",
       "\n"
      ],
      "text/plain": [
       " [1] \"CAN_ABO\"                        \"CAN_ANGINA\"                    \n",
       " [3] \"REC_DGN\"                        \"CAN_DIAB_TY\"                   \n",
       " [5] \"CAN_GENDER\"                     \"CAN_HGT_CM\"                    \n",
       " [7] \"CAN_MALIG\"                      \"CAN_RACE\"                      \n",
       " [9] \"CAN_WGT_KG\"                     \"DONOR_ID\"                      \n",
       "[11] \"DON_ABO\"                        \"DON_AGE\"                       \n",
       "[13] \"DON_AGE_IN_MONTHS\"              \"DON_GENDER\"                    \n",
       "[15] \"REC_ACUTE_REJ_BIOPSY_CONFIRMED\" \"REC_ACUTE_REJ_EPISODE\"         \n",
       "[17] \"REC_AGE_AT_TX\"                  \"REC_AGE_IN_MONTHS_AT_TX\"       \n",
       "[19] \"REC_A_MM_EQUIV_CUR\"             \"REC_A_MM_EQUIV_TX\"             \n",
       "[21] \"REC_BMI\"                        \"REC_B_MM_EQUIV_CUR\"            \n",
       "[23] \"REC_B_MM_EQUIV_TX\"              \"REC_DR_MM_EQUIV_CUR\"           \n",
       "[25] \"REC_DR_MM_EQUIV_TX\"             \"REC_MM_EQUIV_CUR\"              \n",
       "[27] \"REC_MM_EQUIV_TX\"                \"REC_COD\"                       \n",
       "[29] \"REC_COD2\"                       \"REC_COD3\"                      \n",
       "[31] \"REC_COLD_ISCH_TM\"               \"REC_CREAT\"                     \n",
       "[33] \"REC_CREAT_DECLINE_GE25\"         \"REC_DISCHRG_CREAT\"             \n",
       "[35] \"REC_DIAL_DT\"                    \"REC_DISCHRG_DT\"                \n",
       "[37] \"REC_FAIL_DT\"                    \"REC_FAIL_CAUSE_TY\"             \n",
       "[39] \"REC_PREV_GRAFT1_DT\"             \"REC_GRAFT_STAT\"                \n",
       "[41] \"REC_HGT_WGT_DT\"                 \"REC_PROD_URINE_GT40_24HRS\"     \n",
       "[43] \"REC_TX_DT\"                      \"TFL_DEATH_DT\"                  \n",
       "[45] \"TFL_GRAFT_DT\"                   \"TFL_LAFUDATE\"                  \n",
       "[47] \"TX_ID\"                          \"TFL_COD\"                       "
      ]
     },
     "metadata": {},
     "output_type": "display_data"
    }
   ],
   "source": [
    "colnames(tx_df)"
   ]
  },
  {
   "cell_type": "code",
   "execution_count": 4,
   "id": "ed90157b-155c-4058-9aa3-29d2d3a87c74",
   "metadata": {},
   "outputs": [],
   "source": [
    "# take columnnames suggested by nephrologist and clinical reasoning and removing multiple mismatch parameter to only get the overall mismatch percentage because of obious multicolinearity\n",
    "tx_df <- tx_df %>% select(-c('CAN_HGT_CM','CAN_WGT_KG','DONOR_ID','DON_AGE_IN_MONTHS','REC_AGE_IN_MONTHS_AT_TX','REC_AGE_IN_MONTHS_AT_TX','REC_FAIL_DT','REC_FAIL_CAUSE_TY','REC_PREV_GRAFT1_DT','REC_GRAFT_STAT','REC_HGT_WGT_DT',\n",
    "                             'TX_ID','TFL_COD','REC_COD','REC_COD2','REC_COD3','TFL_COD', 'CAN_RACE','REC_A_MM_EQUIV_CUR','REC_A_MM_EQUIV_TX','REC_BMI','REC_B_MM_EQUIV_CUR','REC_B_MM_EQUIV_TX','REC_DR_MM_EQUIV_CUR',\n",
    "                             'REC_DR_MM_EQUIV_TX'))"
   ]
  },
  {
   "cell_type": "code",
   "execution_count": 5,
   "id": "3f6cad41-9cef-405c-a714-353d0533f58e",
   "metadata": {},
   "outputs": [
    {
     "data": {
      "text/html": [
       "<style>\n",
       ".list-inline {list-style: none; margin:0; padding: 0}\n",
       ".list-inline>li {display: inline-block}\n",
       ".list-inline>li:not(:last-child)::after {content: \"\\00b7\"; padding: 0 .5ex}\n",
       "</style>\n",
       "<ol class=list-inline><li>'CAN_ABO'</li><li>'CAN_ANGINA'</li><li>'REC_DGN'</li><li>'CAN_DIAB_TY'</li><li>'CAN_GENDER'</li><li>'CAN_MALIG'</li><li>'DON_ABO'</li><li>'DON_AGE'</li><li>'DON_GENDER'</li><li>'REC_ACUTE_REJ_BIOPSY_CONFIRMED'</li><li>'REC_ACUTE_REJ_EPISODE'</li><li>'REC_AGE_AT_TX'</li><li>'REC_MM_EQUIV_CUR'</li><li>'REC_MM_EQUIV_TX'</li><li>'REC_COLD_ISCH_TM'</li><li>'REC_CREAT'</li><li>'REC_CREAT_DECLINE_GE25'</li><li>'REC_DISCHRG_CREAT'</li><li>'REC_DIAL_DT'</li><li>'REC_DISCHRG_DT'</li><li>'REC_PROD_URINE_GT40_24HRS'</li><li>'REC_TX_DT'</li><li>'TFL_DEATH_DT'</li><li>'TFL_GRAFT_DT'</li><li>'TFL_LAFUDATE'</li></ol>\n"
      ],
      "text/latex": [
       "\\begin{enumerate*}\n",
       "\\item 'CAN\\_ABO'\n",
       "\\item 'CAN\\_ANGINA'\n",
       "\\item 'REC\\_DGN'\n",
       "\\item 'CAN\\_DIAB\\_TY'\n",
       "\\item 'CAN\\_GENDER'\n",
       "\\item 'CAN\\_MALIG'\n",
       "\\item 'DON\\_ABO'\n",
       "\\item 'DON\\_AGE'\n",
       "\\item 'DON\\_GENDER'\n",
       "\\item 'REC\\_ACUTE\\_REJ\\_BIOPSY\\_CONFIRMED'\n",
       "\\item 'REC\\_ACUTE\\_REJ\\_EPISODE'\n",
       "\\item 'REC\\_AGE\\_AT\\_TX'\n",
       "\\item 'REC\\_MM\\_EQUIV\\_CUR'\n",
       "\\item 'REC\\_MM\\_EQUIV\\_TX'\n",
       "\\item 'REC\\_COLD\\_ISCH\\_TM'\n",
       "\\item 'REC\\_CREAT'\n",
       "\\item 'REC\\_CREAT\\_DECLINE\\_GE25'\n",
       "\\item 'REC\\_DISCHRG\\_CREAT'\n",
       "\\item 'REC\\_DIAL\\_DT'\n",
       "\\item 'REC\\_DISCHRG\\_DT'\n",
       "\\item 'REC\\_PROD\\_URINE\\_GT40\\_24HRS'\n",
       "\\item 'REC\\_TX\\_DT'\n",
       "\\item 'TFL\\_DEATH\\_DT'\n",
       "\\item 'TFL\\_GRAFT\\_DT'\n",
       "\\item 'TFL\\_LAFUDATE'\n",
       "\\end{enumerate*}\n"
      ],
      "text/markdown": [
       "1. 'CAN_ABO'\n",
       "2. 'CAN_ANGINA'\n",
       "3. 'REC_DGN'\n",
       "4. 'CAN_DIAB_TY'\n",
       "5. 'CAN_GENDER'\n",
       "6. 'CAN_MALIG'\n",
       "7. 'DON_ABO'\n",
       "8. 'DON_AGE'\n",
       "9. 'DON_GENDER'\n",
       "10. 'REC_ACUTE_REJ_BIOPSY_CONFIRMED'\n",
       "11. 'REC_ACUTE_REJ_EPISODE'\n",
       "12. 'REC_AGE_AT_TX'\n",
       "13. 'REC_MM_EQUIV_CUR'\n",
       "14. 'REC_MM_EQUIV_TX'\n",
       "15. 'REC_COLD_ISCH_TM'\n",
       "16. 'REC_CREAT'\n",
       "17. 'REC_CREAT_DECLINE_GE25'\n",
       "18. 'REC_DISCHRG_CREAT'\n",
       "19. 'REC_DIAL_DT'\n",
       "20. 'REC_DISCHRG_DT'\n",
       "21. 'REC_PROD_URINE_GT40_24HRS'\n",
       "22. 'REC_TX_DT'\n",
       "23. 'TFL_DEATH_DT'\n",
       "24. 'TFL_GRAFT_DT'\n",
       "25. 'TFL_LAFUDATE'\n",
       "\n",
       "\n"
      ],
      "text/plain": [
       " [1] \"CAN_ABO\"                        \"CAN_ANGINA\"                    \n",
       " [3] \"REC_DGN\"                        \"CAN_DIAB_TY\"                   \n",
       " [5] \"CAN_GENDER\"                     \"CAN_MALIG\"                     \n",
       " [7] \"DON_ABO\"                        \"DON_AGE\"                       \n",
       " [9] \"DON_GENDER\"                     \"REC_ACUTE_REJ_BIOPSY_CONFIRMED\"\n",
       "[11] \"REC_ACUTE_REJ_EPISODE\"          \"REC_AGE_AT_TX\"                 \n",
       "[13] \"REC_MM_EQUIV_CUR\"               \"REC_MM_EQUIV_TX\"               \n",
       "[15] \"REC_COLD_ISCH_TM\"               \"REC_CREAT\"                     \n",
       "[17] \"REC_CREAT_DECLINE_GE25\"         \"REC_DISCHRG_CREAT\"             \n",
       "[19] \"REC_DIAL_DT\"                    \"REC_DISCHRG_DT\"                \n",
       "[21] \"REC_PROD_URINE_GT40_24HRS\"      \"REC_TX_DT\"                     \n",
       "[23] \"TFL_DEATH_DT\"                   \"TFL_GRAFT_DT\"                  \n",
       "[25] \"TFL_LAFUDATE\"                  "
      ]
     },
     "metadata": {},
     "output_type": "display_data"
    }
   ],
   "source": [
    "colnames(tx_df)"
   ]
  },
  {
   "cell_type": "code",
   "execution_count": 6,
   "id": "3c4648de-412d-4160-9241-30e46043feef",
   "metadata": {},
   "outputs": [],
   "source": [
    "data <- tx_df%>%mutate(time = case_when(\n",
    "  !is.na(TFL_DEATH_DT) & is.na(TFL_GRAFT_DT)~ difftime( TFL_DEATH_DT,REC_TX_DT, units = \"days\"),\n",
    "    is.na(TFL_DEATH_DT) & !is.na(TFL_GRAFT_DT)~ difftime(TFL_GRAFT_DT,REC_TX_DT,  units = \"days\"),\n",
    "    is.na(TFL_DEATH_DT) & is.na(TFL_GRAFT_DT)~ difftime(TFL_LAFUDATE,REC_TX_DT,  units = \"days\"),\n",
    "  ))\n",
    "\n",
    "# time: Survival time in days\n",
    "# status: censoring status 1=censored, 2=graft failure\n",
    "data$status <- 1\n",
    "data$status[!is.na(data$TFL_DEATH_DT)]<-1\n",
    "data$status[!is.na(data$TFL_GRAFT_DT)]<-2"
   ]
  },
  {
   "cell_type": "code",
   "execution_count": 7,
   "id": "1b0ee7e2-fa12-4608-9b30-8fd0e51d82fd",
   "metadata": {},
   "outputs": [
    {
     "data": {
      "text/html": [
       "<style>\n",
       ".dl-inline {width: auto; margin:0; padding: 0}\n",
       ".dl-inline>dt, .dl-inline>dd {float: none; width: auto; display: inline-block}\n",
       ".dl-inline>dt::after {content: \":\\0020\"; padding-right: .5ex}\n",
       ".dl-inline>dt:not(:first-of-type) {padding-left: .5ex}\n",
       "</style><dl class=dl-inline><dt>CAN_ABO</dt><dd>0</dd><dt>CAN_ANGINA</dt><dd>365430</dd><dt>REC_DGN</dt><dd>4061</dd><dt>CAN_DIAB_TY</dt><dd>72073</dd><dt>CAN_GENDER</dt><dd>0</dd><dt>CAN_MALIG</dt><dd>72439</dd><dt>DON_ABO</dt><dd>9</dd><dt>DON_AGE</dt><dd>21</dd><dt>DON_GENDER</dt><dd>1</dd><dt>REC_ACUTE_REJ_BIOPSY_CONFIRMED</dt><dd>506772</dd><dt>REC_ACUTE_REJ_EPISODE</dt><dd>192470</dd><dt>REC_AGE_AT_TX</dt><dd>1</dd><dt>REC_MM_EQUIV_CUR</dt><dd>5697</dd><dt>REC_MM_EQUIV_TX</dt><dd>40261</dd><dt>REC_COLD_ISCH_TM</dt><dd>49004</dd><dt>REC_CREAT</dt><dd>122028</dd><dt>REC_CREAT_DECLINE_GE25</dt><dd>286905</dd><dt>REC_DISCHRG_CREAT</dt><dd>12929</dd><dt>REC_DIAL_DT</dt><dd>91128</dd><dt>REC_DISCHRG_DT</dt><dd>5885</dd><dt>REC_PROD_URINE_GT40_24HRS</dt><dd>286047</dd><dt>REC_TX_DT</dt><dd>0</dd><dt>TFL_DEATH_DT</dt><dd>395034</dd><dt>TFL_GRAFT_DT</dt><dd>390251</dd><dt>TFL_LAFUDATE</dt><dd>0</dd><dt>time</dt><dd>23978</dd><dt>status</dt><dd>0</dd></dl>\n"
      ],
      "text/latex": [
       "\\begin{description*}\n",
       "\\item[CAN\\textbackslash{}\\_ABO] 0\n",
       "\\item[CAN\\textbackslash{}\\_ANGINA] 365430\n",
       "\\item[REC\\textbackslash{}\\_DGN] 4061\n",
       "\\item[CAN\\textbackslash{}\\_DIAB\\textbackslash{}\\_TY] 72073\n",
       "\\item[CAN\\textbackslash{}\\_GENDER] 0\n",
       "\\item[CAN\\textbackslash{}\\_MALIG] 72439\n",
       "\\item[DON\\textbackslash{}\\_ABO] 9\n",
       "\\item[DON\\textbackslash{}\\_AGE] 21\n",
       "\\item[DON\\textbackslash{}\\_GENDER] 1\n",
       "\\item[REC\\textbackslash{}\\_ACUTE\\textbackslash{}\\_REJ\\textbackslash{}\\_BIOPSY\\textbackslash{}\\_CONFIRMED] 506772\n",
       "\\item[REC\\textbackslash{}\\_ACUTE\\textbackslash{}\\_REJ\\textbackslash{}\\_EPISODE] 192470\n",
       "\\item[REC\\textbackslash{}\\_AGE\\textbackslash{}\\_AT\\textbackslash{}\\_TX] 1\n",
       "\\item[REC\\textbackslash{}\\_MM\\textbackslash{}\\_EQUIV\\textbackslash{}\\_CUR] 5697\n",
       "\\item[REC\\textbackslash{}\\_MM\\textbackslash{}\\_EQUIV\\textbackslash{}\\_TX] 40261\n",
       "\\item[REC\\textbackslash{}\\_COLD\\textbackslash{}\\_ISCH\\textbackslash{}\\_TM] 49004\n",
       "\\item[REC\\textbackslash{}\\_CREAT] 122028\n",
       "\\item[REC\\textbackslash{}\\_CREAT\\textbackslash{}\\_DECLINE\\textbackslash{}\\_GE25] 286905\n",
       "\\item[REC\\textbackslash{}\\_DISCHRG\\textbackslash{}\\_CREAT] 12929\n",
       "\\item[REC\\textbackslash{}\\_DIAL\\textbackslash{}\\_DT] 91128\n",
       "\\item[REC\\textbackslash{}\\_DISCHRG\\textbackslash{}\\_DT] 5885\n",
       "\\item[REC\\textbackslash{}\\_PROD\\textbackslash{}\\_URINE\\textbackslash{}\\_GT40\\textbackslash{}\\_24HRS] 286047\n",
       "\\item[REC\\textbackslash{}\\_TX\\textbackslash{}\\_DT] 0\n",
       "\\item[TFL\\textbackslash{}\\_DEATH\\textbackslash{}\\_DT] 395034\n",
       "\\item[TFL\\textbackslash{}\\_GRAFT\\textbackslash{}\\_DT] 390251\n",
       "\\item[TFL\\textbackslash{}\\_LAFUDATE] 0\n",
       "\\item[time] 23978\n",
       "\\item[status] 0\n",
       "\\end{description*}\n"
      ],
      "text/markdown": [
       "CAN_ABO\n",
       ":   0CAN_ANGINA\n",
       ":   365430REC_DGN\n",
       ":   4061CAN_DIAB_TY\n",
       ":   72073CAN_GENDER\n",
       ":   0CAN_MALIG\n",
       ":   72439DON_ABO\n",
       ":   9DON_AGE\n",
       ":   21DON_GENDER\n",
       ":   1REC_ACUTE_REJ_BIOPSY_CONFIRMED\n",
       ":   506772REC_ACUTE_REJ_EPISODE\n",
       ":   192470REC_AGE_AT_TX\n",
       ":   1REC_MM_EQUIV_CUR\n",
       ":   5697REC_MM_EQUIV_TX\n",
       ":   40261REC_COLD_ISCH_TM\n",
       ":   49004REC_CREAT\n",
       ":   122028REC_CREAT_DECLINE_GE25\n",
       ":   286905REC_DISCHRG_CREAT\n",
       ":   12929REC_DIAL_DT\n",
       ":   91128REC_DISCHRG_DT\n",
       ":   5885REC_PROD_URINE_GT40_24HRS\n",
       ":   286047REC_TX_DT\n",
       ":   0TFL_DEATH_DT\n",
       ":   395034TFL_GRAFT_DT\n",
       ":   390251TFL_LAFUDATE\n",
       ":   0time\n",
       ":   23978status\n",
       ":   0\n",
       "\n"
      ],
      "text/plain": [
       "                       CAN_ABO                     CAN_ANGINA \n",
       "                             0                         365430 \n",
       "                       REC_DGN                    CAN_DIAB_TY \n",
       "                          4061                          72073 \n",
       "                    CAN_GENDER                      CAN_MALIG \n",
       "                             0                          72439 \n",
       "                       DON_ABO                        DON_AGE \n",
       "                             9                             21 \n",
       "                    DON_GENDER REC_ACUTE_REJ_BIOPSY_CONFIRMED \n",
       "                             1                         506772 \n",
       "         REC_ACUTE_REJ_EPISODE                  REC_AGE_AT_TX \n",
       "                        192470                              1 \n",
       "              REC_MM_EQUIV_CUR                REC_MM_EQUIV_TX \n",
       "                          5697                          40261 \n",
       "              REC_COLD_ISCH_TM                      REC_CREAT \n",
       "                         49004                         122028 \n",
       "        REC_CREAT_DECLINE_GE25              REC_DISCHRG_CREAT \n",
       "                        286905                          12929 \n",
       "                   REC_DIAL_DT                 REC_DISCHRG_DT \n",
       "                         91128                           5885 \n",
       "     REC_PROD_URINE_GT40_24HRS                      REC_TX_DT \n",
       "                        286047                              0 \n",
       "                  TFL_DEATH_DT                   TFL_GRAFT_DT \n",
       "                        395034                         390251 \n",
       "                  TFL_LAFUDATE                           time \n",
       "                             0                          23978 \n",
       "                        status \n",
       "                             0 "
      ]
     },
     "metadata": {},
     "output_type": "display_data"
    }
   ],
   "source": [
    "colSums(is.na(data))\n",
    "# drop columns with too much missing data\n",
    "data <- data %>% select(-c('CAN_ANGINA', 'REC_ACUTE_REJ_BIOPSY_CONFIRMED','REC_CREAT_DECLINE_GE25','REC_PROD_URINE_GT40_24HRS'))"
   ]
  },
  {
   "cell_type": "code",
   "execution_count": 8,
   "id": "26d0af0e-157e-463c-83af-75941099d6e9",
   "metadata": {},
   "outputs": [
    {
     "data": {
      "text/html": [
       "'1987'"
      ],
      "text/latex": [
       "'1987'"
      ],
      "text/markdown": [
       "'1987'"
      ],
      "text/plain": [
       "[1] \"1987\""
      ]
     },
     "metadata": {},
     "output_type": "display_data"
    }
   ],
   "source": [
    "data$yeartx <- format(data$REC_TX_DT, format=\"%Y\")\n",
    "min(data$yeartx)"
   ]
  },
  {
   "cell_type": "code",
   "execution_count": 9,
   "id": "b9eefe85-d52e-42eb-91d4-476385acf675",
   "metadata": {},
   "outputs": [
    {
     "data": {
      "text/html": [
       "<style>\n",
       ".list-inline {list-style: none; margin:0; padding: 0}\n",
       ".list-inline>li {display: inline-block}\n",
       ".list-inline>li:not(:last-child)::after {content: \"\\00b7\"; padding: 0 .5ex}\n",
       "</style>\n",
       "<ol class=list-inline><li>2010</li><li>2000</li><li>90</li><li>80</li><li>2020</li></ol>\n",
       "\n",
       "<details>\n",
       "\t<summary style=display:list-item;cursor:pointer>\n",
       "\t\t<strong>Levels</strong>:\n",
       "\t</summary>\n",
       "\t<style>\n",
       "\t.list-inline {list-style: none; margin:0; padding: 0}\n",
       "\t.list-inline>li {display: inline-block}\n",
       "\t.list-inline>li:not(:last-child)::after {content: \"\\00b7\"; padding: 0 .5ex}\n",
       "\t</style>\n",
       "\t<ol class=list-inline><li>'2000'</li><li>'2010'</li><li>'2020'</li><li>'80'</li><li>'90'</li></ol>\n",
       "</details>"
      ],
      "text/latex": [
       "\\begin{enumerate*}\n",
       "\\item 2010\n",
       "\\item 2000\n",
       "\\item 90\n",
       "\\item 80\n",
       "\\item 2020\n",
       "\\end{enumerate*}\n",
       "\n",
       "\\emph{Levels}: \\begin{enumerate*}\n",
       "\\item '2000'\n",
       "\\item '2010'\n",
       "\\item '2020'\n",
       "\\item '80'\n",
       "\\item '90'\n",
       "\\end{enumerate*}\n"
      ],
      "text/markdown": [
       "1. 2010\n",
       "2. 2000\n",
       "3. 90\n",
       "4. 80\n",
       "5. 2020\n",
       "\n",
       "\n",
       "\n",
       "**Levels**: 1. '2000'\n",
       "2. '2010'\n",
       "3. '2020'\n",
       "4. '80'\n",
       "5. '90'\n",
       "\n",
       "\n"
      ],
      "text/plain": [
       "[1] 2010 2000 90   80   2020\n",
       "Levels: 2000 2010 2020 80 90"
      ]
     },
     "metadata": {},
     "output_type": "display_data"
    }
   ],
   "source": [
    "data$decade <- '80'\n",
    "data$decade[data$yeartx>1989]<-'90'\n",
    "data$decade[data$yeartx>1999]<- '2000'\n",
    "data$decade[data$yeartx>2009]<- '2010'\n",
    "data$decade[data$yeartx>2019]<- '2020'\n",
    "data$decade <- as.factor(data$decade)\n",
    "\n",
    "data <- data %>% select(-c(\"REC_DIAL_DT\", \"REC_DISCHRG_DT\", \"REC_TX_DT\",\"yeartx\"))\n",
    "unique(data$decade)"
   ]
  },
  {
   "cell_type": "code",
   "execution_count": null,
   "id": "eca33fd8-05c9-4c2c-a2ee-428ced195ea1",
   "metadata": {},
   "outputs": [],
   "source": [
    "colSums(is.na(data))"
   ]
  },
  {
   "cell_type": "code",
   "execution_count": null,
   "id": "e4e762b1-3528-4d14-aee6-37978a522808",
   "metadata": {},
   "outputs": [],
   "source": [
    "data <- data %>% select(-c('TFL_DEATH_DT','TFL_GRAFT_DT','TFL_LAFUDATE' ))"
   ]
  },
  {
   "cell_type": "code",
   "execution_count": null,
   "id": "e1e17d7a-32fc-405b-87de-c02f7748ad29",
   "metadata": {},
   "outputs": [],
   "source": [
    "head(data)"
   ]
  },
  {
   "cell_type": "markdown",
   "id": "e465c3c2-bee4-468e-90e2-72b0e5f87580",
   "metadata": {},
   "source": [
    "Pick timeframe"
   ]
  },
  {
   "cell_type": "code",
   "execution_count": null,
   "id": "9aefae5d-5174-4bcc-a4d1-031ce30d4982",
   "metadata": {},
   "outputs": [],
   "source": [
    "plotting <- data\n",
    "plotting$time <- as.integer(plotting$time)\n",
    "plotting$status <- as.character(plotting$status)\n",
    "plotting$status[plotting$status==1]<- \"Censored\"\n",
    "plotting$status[plotting$status==2]<- \"Failure\"\n",
    "plotting$status <- as.factor(plotting$status)\n",
    "\n",
    "\n",
    "ggplot(plotting, aes(x=time, color=status)) +\n",
    "    geom_histogram(fill=\"white\")+\n",
    "    theme_classic()"
   ]
  },
  {
   "cell_type": "code",
   "execution_count": null,
   "id": "a5e07883-3ab8-4226-a8d7-849c8ca886f0",
   "metadata": {},
   "outputs": [],
   "source": [
    "# first 13 years after tx\n",
    "data <- subset(data, data$time <4745)"
   ]
  },
  {
   "cell_type": "markdown",
   "id": "7a86d753-860c-4880-b1d0-af135625ad4a",
   "metadata": {},
   "source": [
    "Cleaning and refactoring"
   ]
  },
  {
   "cell_type": "code",
   "execution_count": null,
   "id": "94258423-7604-487c-b02b-d4db28b682b4",
   "metadata": {},
   "outputs": [],
   "source": [
    "str(data)"
   ]
  },
  {
   "cell_type": "code",
   "execution_count": null,
   "id": "70776381-224c-49b3-9901-c12032c51935",
   "metadata": {},
   "outputs": [],
   "source": [
    "cols <- c(\"CAN_ABO\",\"REC_DGN\",\"CAN_DIAB_TY\", \"CAN_GENDER\", \"CAN_MALIG\", \"DON_ABO\", \"DON_GENDER\",\"REC_ACUTE_REJ_EPISODE\", \n",
    "         \"REC_MM_EQUIV_CUR\",\"REC_MM_EQUIV_TX\")\n",
    "data[cols] <- lapply(data[cols], factor)\n",
    "\n",
    "str(data)"
   ]
  },
  {
   "cell_type": "code",
   "execution_count": null,
   "id": "1efe1a74-bc56-4df3-bf3f-03366b25b5b4",
   "metadata": {
    "scrolled": true,
    "tags": []
   },
   "outputs": [],
   "source": [
    "## Create a TableOne object\n",
    "tab1 <- CreateTableOne(vars = c('CAN_ABO','REC_DGN','CAN_DIAB_TY','CAN_GENDER','CAN_MALIG','DON_ABO','DON_AGE','DON_GENDER','REC_AGE_AT_TX','REC_MM_EQUIV_CUR',\n",
    "            'REC_MM_EQUIV_TX','REC_COLD_ISCH_TM','REC_CREAT','REC_DISCHRG_CREAT',\n",
    "            'decade','status'), strata = \"status\", \n",
    "                       data = data, factorVars = c('CAN_ABO','REC_DGN','CAN_DIAB_TY','CAN_GENDER','CAN_MALIG','DON_ABO','DON_GENDER','REC_MM_EQUIV_TX','REC_MM_EQUIV_CUR','decade'))\n",
    "\n",
    "tab3Mat <- print(tab1,showAllLevels = FALSE, quote = FALSE, noSpaces = TRUE, printToggle = FALSE)\n",
    "\n",
    "write.csv(tab3Mat, 'myTable.csv')"
   ]
  },
  {
   "cell_type": "code",
   "execution_count": null,
   "id": "0f2ef37b-074d-45fa-881b-0304fd6cccf8",
   "metadata": {},
   "outputs": [],
   "source": [
    "# univariate cox to select variables\n",
    "# covariates\n",
    "covariates <- colnames(data)\n",
    "covariates <- covariates[!covariates %in% c(\"time\",\"status\")]\n",
    "\n",
    "#making formulas\n",
    "univ_formulas <- sapply(covariates,function(x)as.formula(paste('Surv(time,status)~',x))\n",
    ")\n",
    "#making a list of models\n",
    "univ_models <- lapply(univ_formulas, function(x){coxph(x,data=data)})\n",
    "\n",
    "#extract data (here I've gone for HR and confint)\n",
    "univ_results <- lapply(univ_models,function(x){cbind(exp(cbind(coef(x),confint(x))),Pval=anova(x)[2,4])})"
   ]
  },
  {
   "cell_type": "code",
   "execution_count": null,
   "id": "4b86e552-df5b-4f58-a601-d7100e6c5815",
   "metadata": {},
   "outputs": [],
   "source": [
    "univ_results"
   ]
  },
  {
   "cell_type": "code",
   "execution_count": null,
   "id": "be755ce4-39e1-4577-bb79-dede273dedd2",
   "metadata": {},
   "outputs": [],
   "source": [
    "# drop none\n",
    "# whole case only\n",
    "data <- na.omit(data)\n",
    "length(data$CAN_ABO)"
   ]
  },
  {
   "cell_type": "code",
   "execution_count": null,
   "id": "ab89745a-1736-46ad-aa48-3bd0a7c438c5",
   "metadata": {},
   "outputs": [],
   "source": [
    "# Split in validation and training data, seed for reproducability, choosen randomly\n",
    "\n",
    "## 80% of the sample size\n",
    "smp_size <- floor(0.80 * nrow(data))\n",
    "\n",
    "## set the seed to make your partition reproducible\n",
    "set.seed(123)\n",
    "train_ind <- sample(seq_len(nrow(data)), size = smp_size)\n",
    "\n",
    "train <- data[train_ind, ]\n",
    "test2 <- data[-train_ind, ]\n",
    "\n",
    "data <- train"
   ]
  },
  {
   "cell_type": "code",
   "execution_count": null,
   "id": "4306615c-56f5-4144-82ba-1be405379988",
   "metadata": {},
   "outputs": [],
   "source": [
    "str(data)"
   ]
  },
  {
   "cell_type": "code",
   "execution_count": null,
   "id": "1cb5ab83-0d18-45a7-a33a-ce1c0e53dd2a",
   "metadata": {},
   "outputs": [],
   "source": [
    "plot(survfit(Surv(time, status) ~ 1, data = data), \n",
    "     xlab = \"Days\", \n",
    "     ylab = \"Graft survival probability\")"
   ]
  },
  {
   "cell_type": "code",
   "execution_count": null,
   "id": "e11031aa-b62c-4757-8c8b-892e8840a084",
   "metadata": {},
   "outputs": [],
   "source": [
    "res.cox <- coxph(Surv(time, status) ~ CAN_GENDER+REC_DGN+CAN_ABO+CAN_DIAB_TY+CAN_MALIG+DON_ABO+DON_AGE+\n",
    "                 REC_AGE_AT_TX+REC_MM_EQUIV_CUR+REC_MM_EQUIV_TX+REC_COLD_ISCH_TM+REC_CREAT+\n",
    "                 REC_DISCHRG_CREAT+decade, data = data)"
   ]
  },
  {
   "cell_type": "markdown",
   "id": "cffc879e-988a-413d-afcd-85c001b1c54f",
   "metadata": {},
   "source": [
    "....Forum answer: \"When I asked Terry Therneau (author of pkg:survival) about that several years ago he said the test that is being triggered to generate that warning is overly sensitive. Generally the warning is not correct. You can usually just look at your coefficients to see that they are not infinite or even effectively infinite which a coefficient of 20 would be unrealistically large in most instances\"....\n",
    "=> Concerning the error message\n"
   ]
  },
  {
   "cell_type": "code",
   "execution_count": null,
   "id": "a7e01ee5-60da-4df1-8b44-657c3da64abb",
   "metadata": {},
   "outputs": [],
   "source": [
    "summary(res.cox)"
   ]
  },
  {
   "cell_type": "code",
   "execution_count": null,
   "id": "960ca001-9790-40bb-b06f-ed6155e83a4f",
   "metadata": {},
   "outputs": [],
   "source": [
    "ggsurvplot(survfit(res.cox),data=data, palette = \"#2E9FDF\",\n",
    "           ggtheme = theme_minimal(), ylab = c(\"Propability of graft survival\"))"
   ]
  },
  {
   "cell_type": "code",
   "execution_count": null,
   "id": "6b63bd36-3429-4ce8-9cc3-1b428682899e",
   "metadata": {},
   "outputs": [],
   "source": [
    "concordance(res.cox, newdata = test2)\n",
    "concordance(res.cox)\n",
    "extractAIC(res.cox)\n",
    "print(\"AIC:\")\n",
    "extractAIC(res.cox)"
   ]
  },
  {
   "cell_type": "markdown",
   "id": "08f5161f-73be-456c-976b-25f3cd9c0e2a",
   "metadata": {},
   "source": [
    "# parametric part"
   ]
  },
  {
   "cell_type": "code",
   "execution_count": null,
   "id": "c642d2bc-0f08-42d7-83ec-5bf76b3c42f8",
   "metadata": {},
   "outputs": [],
   "source": [
    "data$time[data$time==0]<-0.00001"
   ]
  },
  {
   "cell_type": "code",
   "execution_count": null,
   "id": "3889293a-54ed-4697-ae35-ef9e97790d2c",
   "metadata": {},
   "outputs": [],
   "source": [
    "s <- Surv(time, status) ~ CAN_GENDER+REC_DGN+CAN_ABO+CAN_DIAB_TY+CAN_MALIG+DON_ABO+DON_AGE+\n",
    "                 REC_AGE_AT_TX+REC_MM_EQUIV_CUR+REC_MM_EQUIV_TX+REC_COLD_ISCH_TM+REC_CREAT+\n",
    "                 REC_DISCHRG_CREAT+decade"
   ]
  },
  {
   "cell_type": "code",
   "execution_count": null,
   "id": "5c691f5c-804d-4ef3-b16c-5a5af7bcd122",
   "metadata": {},
   "outputs": [],
   "source": [
    "reg_fit <- coxph(Surv(time, status)~1, data=data)\n",
    "summary(reg_fit)\n",
    "\n",
    "# Now get baseline curve\n",
    "baseline <- basehaz(reg_fit)"
   ]
  },
  {
   "cell_type": "code",
   "execution_count": null,
   "id": "b72726ec-00f4-4c5b-b80b-d009d04b8cfc",
   "metadata": {},
   "outputs": [],
   "source": [
    "plot(baseline$time, baseline$hazard)\n",
    "head(baseline)"
   ]
  },
  {
   "cell_type": "code",
   "execution_count": null,
   "id": "b19cadf3-7088-41a4-9d37-78e6f472fac1",
   "metadata": {},
   "outputs": [],
   "source": [
    "fitwb <- survreg(s, data=data, dist = \"weibull\") \n",
    "fitexp <- survreg(s, data = data, dist = \"exponential\")\n",
    "\n",
    "fitgaus <- survreg(s, data = data, dist = \"gaussian\")\n",
    "fitlog <- survreg(s, data = data, dist = \"logistic\")\n",
    "\n",
    "fitlognorm <- survreg(s, data = data, dist = \"lognormal\")\n",
    "fitloglog <- survreg(s, data = data, dist = \"loglogistic\")"
   ]
  },
  {
   "cell_type": "code",
   "execution_count": null,
   "id": "c055f0ca-4c91-4f9a-b8c2-ec81f259774b",
   "metadata": {},
   "outputs": [],
   "source": [
    "a<-extractAIC(fitwb)\n",
    "b<-extractAIC(fitexp)\n",
    "c<-extractAIC(fitgaus)\n",
    "d<-extractAIC(fitlog)\n",
    "e<-extractAIC(fitlognorm)\n",
    "f<-extractAIC(fitloglog)\n",
    "g <- extractAIC(res.cox)\n",
    "aicput <- rbind(a,b,c,d,e,f,g)\n",
    "namemod <- c(\"Weibull\", \"Exponential\", \"Gaussian\", \"Logistic\", \"Lognormal\", \"Loglogistic\", \"Cox\")\n",
    "aicput <- cbind(aicput, namemod)\n",
    "aicput\n"
   ]
  },
  {
   "cell_type": "code",
   "execution_count": null,
   "id": "8add89d8-d13d-4e4a-a293-9ed5f6eb962b",
   "metadata": {},
   "outputs": [],
   "source": [
    "concordance(fitwb)\n",
    "concordance(fitwb, newdata = test2)"
   ]
  },
  {
   "cell_type": "code",
   "execution_count": null,
   "id": "152d4a66-a251-4c29-ac0f-6352f5cc5a30",
   "metadata": {},
   "outputs": [],
   "source": [
    "concordance(fitloglog)\n",
    "concordance(fitloglog, newdata =test2)\n",
    "# summary(fitloglog)"
   ]
  },
  {
   "cell_type": "code",
   "execution_count": null,
   "id": "ea258c36-d239-4b84-8e10-673dd71d18ce",
   "metadata": {},
   "outputs": [],
   "source": [
    "#anova(fitwb)\n",
    "summary(fitwb)"
   ]
  },
  {
   "cell_type": "code",
   "execution_count": null,
   "id": "e32e8cf9-e819-4120-b8aa-c69fe70c8d86",
   "metadata": {},
   "outputs": [],
   "source": [
    "s <- with(data,Surv(time,status))\n",
    "sWei <- survreg(s ~ as.factor(CAN_GENDER),dist='weibull',data=data)\n"
   ]
  },
  {
   "cell_type": "code",
   "execution_count": null,
   "id": "b6370263-1b6d-411e-b1f9-e7c54db2b60d",
   "metadata": {},
   "outputs": [],
   "source": [
    "sWei"
   ]
  },
  {
   "cell_type": "code",
   "execution_count": null,
   "id": "5810d852-f32a-4d72-bda1-5db543b858b1",
   "metadata": {},
   "outputs": [],
   "source": [
    "intercept<-10.1719889\n",
    "scale<-1.15\n",
    "\n",
    "par(mfrow=c(1,2),mar=c(5.1,5.1,4.1,2.1)) # Make room for the hat.\n",
    "# S(t), the survival function\n",
    "curve(pweibull(x, scale=exp(intercept), shape=1/scale, lower.tail=FALSE), \n",
    "      from=0, to=4000, col='red', lwd=2, ylab=expression(hat(S)(t)), xlab='t',bty='n',ylim=c(0,1))\n",
    "# h(t), the hazard function\n",
    "curve(dweibull(x, scale=exp(intercept), shape=1/scale)\n",
    "      /pweibull(x, scale=exp(intercept), shape=1/scale, lower.tail=FALSE), \n",
    "      from=0, to=4000, col='blue', lwd=2, ylab=expression(hat(h)(t)), xlab='t',bty='n')\n",
    "par(mfrow=c(1,1),mar=c(5.1,4.1,4.1,2.1))"
   ]
  },
  {
   "cell_type": "code",
   "execution_count": null,
   "id": "3ef75796-33c7-489e-9de3-013635d5b702",
   "metadata": {},
   "outputs": [],
   "source": []
  },
  {
   "cell_type": "code",
   "execution_count": null,
   "id": "8be28104-fa6e-4d8d-b6f6-e1dae95cfab2",
   "metadata": {},
   "outputs": [],
   "source": [
    "wbmod <- fitwb\n",
    "s <- seq(.01, .99, by = .01)\n",
    "t_0 <- predict(wbmod, newdata = data.frame(x = 0), \n",
    "                 type = \"quantile\", p = s)\n",
    "t_1 <- predict(wbmod, newdata = data.frame(x = 1), \n",
    "                type = \"quantile\", p = s)\n",
    "\n",
    "smod <- data.frame(time = c(t_0, t_1), \n",
    "                   surv = rep(1 - s, times = 2), \n",
    "                   strata = rep(c(0, 1), each = length(s)),\n",
    "                   upper = NA, lower = NA)\n",
    "\n",
    "head(surv_summary(cm))\n",
    "\n",
    "library(\"ggplot2\")\n",
    "ggplot() + \n",
    "  geom_line(data = smod, aes(x = time, y = surv, color = factor(strata))) +\n",
    "  theme_classic()"
   ]
  },
  {
   "cell_type": "code",
   "execution_count": null,
   "id": "e5cdc939-c296-48f1-a67a-6331e355f525",
   "metadata": {},
   "outputs": [],
   "source": []
  }
 ],
 "metadata": {
  "kernelspec": {
   "display_name": "R",
   "language": "R",
   "name": "ir"
  },
  "language_info": {
   "codemirror_mode": "r",
   "file_extension": ".r",
   "mimetype": "text/x-r-source",
   "name": "R",
   "pygments_lexer": "r",
   "version": "4.2.0"
  }
 },
 "nbformat": 4,
 "nbformat_minor": 5
}
